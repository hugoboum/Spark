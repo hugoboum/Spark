{
 "cells": [
  {
   "cell_type": "code",
   "execution_count": 18,
   "metadata": {},
   "outputs": [],
   "source": [
    "#!pip install pyspark"
   ]
  },
  {
   "cell_type": "code",
   "execution_count": 19,
   "metadata": {},
   "outputs": [],
   "source": [
    "import pyspark"
   ]
  },
  {
   "cell_type": "code",
   "execution_count": 20,
   "metadata": {},
   "outputs": [
    {
     "data": {
      "text/plain": [
       "<pyspark.conf.SparkConf at 0x7fd2504107f0>"
      ]
     },
     "execution_count": 20,
     "metadata": {},
     "output_type": "execute_result"
    }
   ],
   "source": [
    "sc_conf = pyspark.SparkConf()\n",
    "sc_conf.set('spark.executor.memory', '16g')\n",
    "sc_conf.set('spark.driver.memory', '16g')"
   ]
  },
  {
   "cell_type": "code",
   "execution_count": 21,
   "metadata": {},
   "outputs": [],
   "source": [
    "sc = pyspark.SparkContext(conf=sc_conf)"
   ]
  },
  {
   "cell_type": "code",
   "execution_count": 22,
   "metadata": {},
   "outputs": [
    {
     "data": {
      "text/plain": [
       "[('spark.executor.memory', '16g'),\n",
       " ('spark.driver.host', '192.168.150.209'),\n",
       " ('spark.driver.port', '37799'),\n",
       " ('spark.rdd.compress', 'True'),\n",
       " ('spark.serializer.objectStreamReset', '100'),\n",
       " ('spark.app.id', 'local-1575990677583'),\n",
       " ('spark.master', 'local[*]'),\n",
       " ('spark.executor.id', 'driver'),\n",
       " ('spark.submit.deployMode', 'client'),\n",
       " ('spark.driver.memory', '16g'),\n",
       " ('spark.ui.showConsoleProgress', 'true'),\n",
       " ('spark.app.name', 'pyspark-shell')]"
      ]
     },
     "execution_count": 22,
     "metadata": {},
     "output_type": "execute_result"
    }
   ],
   "source": [
    "sc.getConf().getAll()"
   ]
  },
  {
   "cell_type": "code",
   "execution_count": 23,
   "metadata": {},
   "outputs": [
    {
     "data": {
      "text/html": [
       "\n",
       "        <div>\n",
       "            <p><b>SparkContext</b></p>\n",
       "\n",
       "            <p><a href=\"http://192.168.150.209:4040\">Spark UI</a></p>\n",
       "\n",
       "            <dl>\n",
       "              <dt>Version</dt>\n",
       "                <dd><code>v2.4.4</code></dd>\n",
       "              <dt>Master</dt>\n",
       "                <dd><code>local[*]</code></dd>\n",
       "              <dt>AppName</dt>\n",
       "                <dd><code>pyspark-shell</code></dd>\n",
       "            </dl>\n",
       "        </div>\n",
       "        "
      ],
      "text/plain": [
       "<SparkContext master=local[*] appName=pyspark-shell>"
      ]
     },
     "execution_count": 23,
     "metadata": {},
     "output_type": "execute_result"
    }
   ],
   "source": [
    "sc"
   ]
  },
  {
   "cell_type": "code",
   "execution_count": 24,
   "metadata": {},
   "outputs": [],
   "source": [
    "spark = pyspark.sql.SparkSession(sc)"
   ]
  },
  {
   "cell_type": "code",
   "execution_count": 25,
   "metadata": {},
   "outputs": [],
   "source": [
    "artists_ddf = spark.read.csv('./SparkR/artist_data.txt',sep='\\t',header=None,inferSchema=True).selectExpr('_c0 as artist_id','_c1 as artist_name')"
   ]
  },
  {
   "cell_type": "code",
   "execution_count": 26,
   "metadata": {},
   "outputs": [
    {
     "name": "stdout",
     "output_type": "stream",
     "text": [
      "+---------+--------------------+\n",
      "|artist_id|         artist_name|\n",
      "+---------+--------------------+\n",
      "|  1134999|        06Crazy Life|\n",
      "|  6821360|        Pang Nakarin|\n",
      "| 10113088|Terfel, Bartoli- ...|\n",
      "| 10151459| The Flaming Sidebur|\n",
      "|  6826647|   Bodenstandig 3000|\n",
      "+---------+--------------------+\n",
      "only showing top 5 rows\n",
      "\n"
     ]
    }
   ],
   "source": [
    "artists_ddf.show(5)"
   ]
  },
  {
   "cell_type": "code",
   "execution_count": 27,
   "metadata": {},
   "outputs": [],
   "source": [
    "counts_ddf = (spark\n",
    "              .read.csv('./SparkR/user_artist_data.txt',sep=' ',header=None,inferSchema=True)\n",
    "              .selectExpr('_c0 as user_id',\n",
    "                         '_c1 as artist_id',\n",
    "                         '_c2 as playcount')\n",
    "            ).cache()"
   ]
  },
  {
   "cell_type": "code",
   "execution_count": 28,
   "metadata": {},
   "outputs": [
    {
     "name": "stdout",
     "output_type": "stream",
     "text": [
      "+-------+---------+---------+\n",
      "|user_id|artist_id|playcount|\n",
      "+-------+---------+---------+\n",
      "|1000002|        1|       55|\n",
      "|1000002|  1000006|       33|\n",
      "|1000002|  1000007|        8|\n",
      "|1000002|  1000009|      144|\n",
      "|1000002|  1000010|      314|\n",
      "+-------+---------+---------+\n",
      "only showing top 5 rows\n",
      "\n"
     ]
    }
   ],
   "source": [
    "counts_ddf.show(5)"
   ]
  },
  {
   "cell_type": "code",
   "execution_count": 29,
   "metadata": {},
   "outputs": [],
   "source": [
    "good_ddf = (spark\n",
    "              .read.csv('./SparkR/artist_alias.txt',sep='\\t',header=None,inferSchema=True)\n",
    "              .selectExpr('_c0 as bad_id',\n",
    "                         '_c1 as good_id')\n",
    "            ).cache()"
   ]
  },
  {
   "cell_type": "code",
   "execution_count": 30,
   "metadata": {},
   "outputs": [
    {
     "name": "stdout",
     "output_type": "stream",
     "text": [
      "+--------+-------+\n",
      "|  bad_id|good_id|\n",
      "+--------+-------+\n",
      "| 1092764|1000311|\n",
      "| 1095122|1000557|\n",
      "| 6708070|1007267|\n",
      "|10088054|1042317|\n",
      "| 1195917|1042317|\n",
      "+--------+-------+\n",
      "only showing top 5 rows\n",
      "\n"
     ]
    }
   ],
   "source": [
    "good_ddf.show(5)"
   ]
  },
  {
   "cell_type": "code",
   "execution_count": 31,
   "metadata": {},
   "outputs": [],
   "source": [
    "import pyspark.sql.functions as F"
   ]
  },
  {
   "cell_type": "code",
   "execution_count": 32,
   "metadata": {},
   "outputs": [],
   "source": [
    "valid_artists_ddf = (counts_ddf\n",
    "                    .join(good_ddf.withColumnRenamed('bad_id','artist_id'),how='left',on='artist_id')\n",
    "                    .withColumn('valid_artist_id',\n",
    "                                F.when(F.col('good_id').isNull(),F.col('artist_id')).otherwise(F.col('good_id')))\n",
    "                     .groupby('user_id',\"valid_artist_id\")\n",
    "                     .agg(F.sum('playcount').alias('total_count'))\n",
    "                    )"
   ]
  },
  {
   "cell_type": "code",
   "execution_count": 33,
   "metadata": {},
   "outputs": [
    {
     "name": "stdout",
     "output_type": "stream",
     "text": [
      "+-------+---------------+-----------+\n",
      "|user_id|valid_artist_id|total_count|\n",
      "+-------+---------------+-----------+\n",
      "|1000002|        1004315|          1|\n",
      "|1000002|        1004395|          1|\n",
      "|1000002|        1035248|         17|\n",
      "|1000002|           1198|         51|\n",
      "|1000002|            344|         18|\n",
      "+-------+---------------+-----------+\n",
      "only showing top 5 rows\n",
      "\n"
     ]
    }
   ],
   "source": [
    "valid_artists_ddf.show(5)"
   ]
  },
  {
   "cell_type": "code",
   "execution_count": null,
   "metadata": {},
   "outputs": [],
   "source": []
  },
  {
   "cell_type": "code",
   "execution_count": 34,
   "metadata": {},
   "outputs": [],
   "source": [
    "#spark.stop()\n",
    "#sc.stop()"
   ]
  }
 ],
 "metadata": {
  "kernelspec": {
   "display_name": "Python 3",
   "language": "python",
   "name": "python3"
  },
  "language_info": {
   "codemirror_mode": {
    "name": "ipython",
    "version": 3
   },
   "file_extension": ".py",
   "mimetype": "text/x-python",
   "name": "python",
   "nbconvert_exporter": "python",
   "pygments_lexer": "ipython3",
   "version": "3.7.3"
  }
 },
 "nbformat": 4,
 "nbformat_minor": 4
}
