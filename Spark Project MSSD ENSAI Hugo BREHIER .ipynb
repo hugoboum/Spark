{
 "cells": [
  {
   "cell_type": "markdown",
   "metadata": {},
   "source": [
    "# Data Preparation"
   ]
  },
  {
   "cell_type": "markdown",
   "metadata": {},
   "source": [
    "First, I initialize a connection to spark via the library pyspark"
   ]
  },
  {
   "cell_type": "code",
   "execution_count": 1,
   "metadata": {},
   "outputs": [],
   "source": [
    "import pyspark"
   ]
  },
  {
   "cell_type": "code",
   "execution_count": 2,
   "metadata": {},
   "outputs": [
    {
     "data": {
      "text/plain": [
       "<pyspark.conf.SparkConf at 0x7fe6f45a12e8>"
      ]
     },
     "execution_count": 2,
     "metadata": {},
     "output_type": "execute_result"
    }
   ],
   "source": [
    "sc_conf = pyspark.SparkConf()\n",
    "sc_conf.set('spark.executor.memory', '22g')\n",
    "sc_conf.set('spark.driver.memory', '22g')"
   ]
  },
  {
   "cell_type": "code",
   "execution_count": 3,
   "metadata": {},
   "outputs": [],
   "source": [
    "sc = pyspark.SparkContext(conf=sc_conf)"
   ]
  },
  {
   "cell_type": "code",
   "execution_count": 4,
   "metadata": {},
   "outputs": [
    {
     "data": {
      "text/plain": [
       "[('spark.app.id', 'local-1578306800830'),\n",
       " ('spark.executor.memory', '22g'),\n",
       " ('spark.rdd.compress', 'True'),\n",
       " ('spark.serializer.objectStreamReset', '100'),\n",
       " ('spark.driver.memory', '22g'),\n",
       " ('spark.master', 'local[*]'),\n",
       " ('spark.executor.id', 'driver'),\n",
       " ('spark.submit.deployMode', 'client'),\n",
       " ('spark.driver.port', '39665'),\n",
       " ('spark.ui.showConsoleProgress', 'true'),\n",
       " ('spark.app.name', 'pyspark-shell'),\n",
       " ('spark.driver.host', '192.168.0.25')]"
      ]
     },
     "execution_count": 4,
     "metadata": {},
     "output_type": "execute_result"
    }
   ],
   "source": [
    "sc.getConf().getAll()"
   ]
  },
  {
   "cell_type": "code",
   "execution_count": 5,
   "metadata": {},
   "outputs": [],
   "source": [
    "spark = pyspark.sql.SparkSession(sc)"
   ]
  },
  {
   "cell_type": "markdown",
   "metadata": {},
   "source": [
    "Here files are loaded in Spark. They are supposed to be in a subfolder /data/"
   ]
  },
  {
   "cell_type": "code",
   "execution_count": 6,
   "metadata": {},
   "outputs": [],
   "source": [
    "prix2014_ddf = (spark.read.csv('./data/Prix2014.csv',sep=';',header=None,inferSchema=True))"
   ]
  },
  {
   "cell_type": "markdown",
   "metadata": {},
   "source": [
    "A small function to rename all columns"
   ]
  },
  {
   "cell_type": "code",
   "execution_count": 7,
   "metadata": {},
   "outputs": [],
   "source": [
    "def renameCols(df, old_columns, new_columns):\n",
    "    for old_col,new_col in zip(old_columns,new_columns):\n",
    "        df = df.withColumnRenamed(old_col,new_col)\n",
    "    return df"
   ]
  },
  {
   "cell_type": "code",
   "execution_count": 8,
   "metadata": {
    "scrolled": true
   },
   "outputs": [],
   "source": [
    "old_columns = prix2014_ddf.schema.names\n",
    "new_columns = ('id_pdv','cp','pop',\n",
    "               'latitude','longitude','date','id_carburant','nom_carburant',\n",
    "               'prix(millieuros)'\n",
    "              )\n",
    "\n",
    "\n",
    "prix2014_ddf = renameCols(prix2014_ddf, old_columns, new_columns)"
   ]
  },
  {
   "cell_type": "code",
   "execution_count": 9,
   "metadata": {
    "scrolled": false
   },
   "outputs": [
    {
     "name": "stdout",
     "output_type": "stream",
     "text": [
      "+-------+----+---+---------+---------+-------------------+------------+-------------+----------------+\n",
      "| id_pdv|  cp|pop| latitude|longitude|               date|id_carburant|nom_carburant|prix(millieuros)|\n",
      "+-------+----+---+---------+---------+-------------------+------------+-------------+----------------+\n",
      "|1000001|1000|  R|4620114.0| 519791.0|2014-01-02 11:08:03|           1|       Gazole|            1304|\n",
      "|1000001|1000|  R|4620114.0| 519791.0|2014-01-04 09:54:03|           1|       Gazole|            1304|\n",
      "|1000001|1000|  R|4620114.0| 519791.0|2014-01-05 10:27:09|           1|       Gazole|            1304|\n",
      "|1000001|1000|  R|4620114.0| 519791.0|2014-01-06 09:07:51|           1|       Gazole|            1304|\n",
      "|1000001|1000|  R|4620114.0| 519791.0|2014-01-07 09:23:56|           1|       Gazole|            1304|\n",
      "+-------+----+---+---------+---------+-------------------+------------+-------------+----------------+\n",
      "only showing top 5 rows\n",
      "\n"
     ]
    }
   ],
   "source": [
    "prix2014_ddf.show(5)"
   ]
  },
  {
   "cell_type": "code",
   "execution_count": 10,
   "metadata": {
    "scrolled": true
   },
   "outputs": [
    {
     "name": "stdout",
     "output_type": "stream",
     "text": [
      "+-------+----+---+---------+---------+-------------------+------------+-------------+----------------+\n",
      "| id_pdv|  cp|pop| latitude|longitude|               date|id_carburant|nom_carburant|prix(millieuros)|\n",
      "+-------+----+---+---------+---------+-------------------+------------+-------------+----------------+\n",
      "|1000001|1000|  R|4620114.0| 519791.0|2015-01-02 11:01:45|           1|       Gazole|            1141|\n",
      "|1000001|1000|  R|4620114.0| 519791.0|2015-01-03 09:01:42|           1|       Gazole|            1141|\n",
      "|1000001|1000|  R|4620114.0| 519791.0|2015-01-07 10:01:44|           1|       Gazole|            1141|\n",
      "|1000001|1000|  R|4620114.0| 519791.0|2015-01-08 10:01:06|           1|       Gazole|            1115|\n",
      "|1000001|1000|  R|4620114.0| 519791.0|2015-01-09 10:01:19|           1|       Gazole|            1115|\n",
      "+-------+----+---+---------+---------+-------------------+------------+-------------+----------------+\n",
      "only showing top 5 rows\n",
      "\n"
     ]
    }
   ],
   "source": [
    "prix2015_ddf = (spark.read.csv('./data/Prix2015.csv',sep=';',header=None,inferSchema=True))\n",
    "old_columns = prix2015_ddf.schema.names\n",
    "new_columns = ('id_pdv','cp','pop',\n",
    "               'latitude','longitude','date','id_carburant','nom_carburant',\n",
    "               'prix(millieuros)'\n",
    "              )\n",
    "\n",
    "\n",
    "prix2015_ddf = renameCols(prix2015_ddf, old_columns, new_columns)\n",
    "prix2015_ddf.show(5)"
   ]
  },
  {
   "cell_type": "code",
   "execution_count": 11,
   "metadata": {
    "scrolled": true
   },
   "outputs": [
    {
     "name": "stdout",
     "output_type": "stream",
     "text": [
      "+-------+----+---+---------+---------+-------------------+------------+-------------+----------------+\n",
      "| id_pdv|  cp|pop| latitude|longitude|               date|id_carburant|nom_carburant|prix(millieuros)|\n",
      "+-------+----+---+---------+---------+-------------------+------------+-------------+----------------+\n",
      "|1000001|1000|  R|4620114.0| 519791.0|2016-01-02 09:01:58|           1|       Gazole|            1026|\n",
      "|1000001|1000|  R|4620114.0| 519791.0|2016-01-04 10:01:35|           1|       Gazole|            1026|\n",
      "|1000001|1000|  R|4620114.0| 519791.0|2016-01-04 12:01:15|           1|       Gazole|            1026|\n",
      "|1000001|1000|  R|4620114.0| 519791.0|2016-01-05 09:01:12|           1|       Gazole|            1026|\n",
      "|1000001|1000|  R|4620114.0| 519791.0|2016-01-07 08:01:13|           1|       Gazole|            1026|\n",
      "+-------+----+---+---------+---------+-------------------+------------+-------------+----------------+\n",
      "only showing top 5 rows\n",
      "\n"
     ]
    }
   ],
   "source": [
    "prix2016_ddf = (spark.read.csv('./data/Prix2016.csv',sep=';',header=None,inferSchema=True))\n",
    "old_columns = prix2016_ddf.schema.names\n",
    "new_columns = ('id_pdv','cp','pop',\n",
    "               'latitude','longitude','date','id_carburant','nom_carburant',\n",
    "               'prix(millieuros)'\n",
    "              )\n",
    "\n",
    "\n",
    "prix2016_ddf = renameCols(prix2016_ddf, old_columns, new_columns)\n",
    "prix2016_ddf.show(5)"
   ]
  },
  {
   "cell_type": "code",
   "execution_count": 12,
   "metadata": {
    "scrolled": false
   },
   "outputs": [
    {
     "name": "stdout",
     "output_type": "stream",
     "text": [
      "+-------+----+---+---------+---------+-------------------+------------+-------------+----------------+\n",
      "| id_pdv|  cp|pop| latitude|longitude|               date|id_carburant|nom_carburant|prix(millieuros)|\n",
      "+-------+----+---+---------+---------+-------------------+------------+-------------+----------------+\n",
      "|1000001|1000|  R|4620114.0| 519791.0|2017-01-02 09:37:03|           1|       Gazole|            1258|\n",
      "|1000001|1000|  R|4620114.0| 519791.0|2017-01-03 09:54:58|           1|       Gazole|            1258|\n",
      "|1000001|1000|  R|4620114.0| 519791.0|2017-01-06 12:33:57|           1|       Gazole|            1258|\n",
      "|1000001|1000|  R|4620114.0| 519791.0|2017-01-09 08:59:53|           1|       Gazole|            1258|\n",
      "|1000001|1000|  R|4620114.0| 519791.0|2017-01-10 10:38:39|           1|       Gazole|            1258|\n",
      "+-------+----+---+---------+---------+-------------------+------------+-------------+----------------+\n",
      "only showing top 5 rows\n",
      "\n"
     ]
    }
   ],
   "source": [
    "prix2017_ddf = (spark.read.csv('./data/Prix2017.csv',sep=';',header=None,inferSchema=True))\n",
    "old_columns = prix2017_ddf.schema.names\n",
    "new_columns = ('id_pdv','cp','pop',\n",
    "               'latitude','longitude','date','id_carburant','nom_carburant',\n",
    "               'prix(millieuros)'\n",
    "              )\n",
    "\n",
    "\n",
    "prix2017_ddf = renameCols(prix2017_ddf, old_columns, new_columns)\n",
    "prix2017_ddf.show(5)"
   ]
  },
  {
   "cell_type": "markdown",
   "metadata": {},
   "source": [
    "The files are merged in one dataframe"
   ]
  },
  {
   "cell_type": "code",
   "execution_count": 13,
   "metadata": {},
   "outputs": [],
   "source": [
    "import functools \n",
    "\n",
    "def unionAll(dfs):\n",
    "    return functools.reduce(lambda df1,df2: df1.union(df2.select(df1.columns)), dfs)"
   ]
  },
  {
   "cell_type": "code",
   "execution_count": 14,
   "metadata": {},
   "outputs": [],
   "source": [
    "prixall_ddf = unionAll([prix2014_ddf,prix2015_ddf,prix2016_ddf,prix2017_ddf])"
   ]
  },
  {
   "cell_type": "code",
   "execution_count": 15,
   "metadata": {
    "scrolled": true
   },
   "outputs": [
    {
     "data": {
      "text/plain": [
       "13063734"
      ]
     },
     "execution_count": 15,
     "metadata": {},
     "output_type": "execute_result"
    }
   ],
   "source": [
    "prixall_ddf.count() \n"
   ]
  },
  {
   "cell_type": "markdown",
   "metadata": {},
   "source": [
    "Some features are created based on the date.\n",
    "Week_index and day are not yearly-periodic contrary to month and week"
   ]
  },
  {
   "cell_type": "code",
   "execution_count": 16,
   "metadata": {
    "scrolled": false
   },
   "outputs": [
    {
     "name": "stdout",
     "output_type": "stream",
     "text": [
      "+-------+----+---+---------+---------+------------+-------------+----------------+----+-----+----+----------+---+\n",
      "| id_pdv|  cp|pop| latitude|longitude|id_carburant|nom_carburant|prix(millieuros)|year|month|week|week_index|day|\n",
      "+-------+----+---+---------+---------+------------+-------------+----------------+----+-----+----+----------+---+\n",
      "|1000001|1000|  R|4620114.0| 519791.0|           1|       Gazole|            1304|2014|    1|   1|         1|  2|\n",
      "|1000001|1000|  R|4620114.0| 519791.0|           1|       Gazole|            1304|2014|    1|   1|         1|  4|\n",
      "|1000001|1000|  R|4620114.0| 519791.0|           1|       Gazole|            1304|2014|    1|   1|         1|  5|\n",
      "|1000001|1000|  R|4620114.0| 519791.0|           1|       Gazole|            1304|2014|    1|   2|         2|  6|\n",
      "|1000001|1000|  R|4620114.0| 519791.0|           1|       Gazole|            1304|2014|    1|   2|         2|  7|\n",
      "+-------+----+---+---------+---------+------------+-------------+----------------+----+-----+----+----------+---+\n",
      "only showing top 5 rows\n",
      "\n"
     ]
    }
   ],
   "source": [
    "from pyspark.sql.functions import year,month,weekofyear,hour,dayofyear\n",
    "\n",
    "prixall_ddf = prixall_ddf.withColumn(\"year\", year(\"date\"))\n",
    "prixall_ddf = prixall_ddf.withColumn(\"month\", month(\"date\"))\n",
    "prixall_ddf = prixall_ddf.withColumn(\"week\", weekofyear(\"date\"))\n",
    "prixall_ddf = prixall_ddf.withColumn(\"week_index\", weekofyear(\"date\") + 52*(prixall_ddf.year-2014))\n",
    "prixall_ddf = prixall_ddf.withColumn(\"day\", dayofyear(\"date\")+ 365* (prixall_ddf.year-2014))\n",
    "#prixall_ddf = prixall_ddf.withColumn(\"hour\", hour(\"date\"))\n",
    "prixall_ddf = prixall_ddf.drop('date')\n",
    "prixall_ddf.show(5)"
   ]
  },
  {
   "cell_type": "markdown",
   "metadata": {},
   "source": [
    "From https://www.prix-carburants.gouv.fr/rubrique/opendata/ Question 4 :"
   ]
  },
  {
   "cell_type": "code",
   "execution_count": 17,
   "metadata": {
    "scrolled": true
   },
   "outputs": [
    {
     "name": "stdout",
     "output_type": "stream",
     "text": [
      "+-------+----+---+--------+---------+------------+-------------+----------------+----+-----+----+----------+---+\n",
      "| id_pdv|  cp|pop|latitude|longitude|id_carburant|nom_carburant|prix(millieuros)|year|month|week|week_index|day|\n",
      "+-------+----+---+--------+---------+------------+-------------+----------------+----+-----+----+----------+---+\n",
      "|1000001|1000|  R|46.20114|  5.19791|           1|       Gazole|            1304|2014|    1|   1|         1|  2|\n",
      "|1000001|1000|  R|46.20114|  5.19791|           1|       Gazole|            1304|2014|    1|   1|         1|  4|\n",
      "|1000001|1000|  R|46.20114|  5.19791|           1|       Gazole|            1304|2014|    1|   1|         1|  5|\n",
      "|1000001|1000|  R|46.20114|  5.19791|           1|       Gazole|            1304|2014|    1|   2|         2|  6|\n",
      "|1000001|1000|  R|46.20114|  5.19791|           1|       Gazole|            1304|2014|    1|   2|         2|  7|\n",
      "+-------+----+---+--------+---------+------------+-------------+----------------+----+-----+----+----------+---+\n",
      "only showing top 5 rows\n",
      "\n"
     ]
    }
   ],
   "source": [
    "prixall_ddf = prixall_ddf.withColumn(\"latitude\",prixall_ddf.latitude / 100000 )\n",
    "prixall_ddf = prixall_ddf.withColumn(\"longitude\",prixall_ddf.longitude / 100000 )\n",
    "prixall_ddf.show(5)"
   ]
  },
  {
   "cell_type": "markdown",
   "metadata": {},
   "source": [
    "Here we can register the dataframe to execute some raw SQL queries"
   ]
  },
  {
   "cell_type": "code",
   "execution_count": 18,
   "metadata": {},
   "outputs": [],
   "source": [
    "prixall_ddf.registerTempTable('prixall_table')"
   ]
  },
  {
   "cell_type": "code",
   "execution_count": 19,
   "metadata": {},
   "outputs": [],
   "source": [
    "sqlContext = pyspark.SQLContext(sc)"
   ]
  },
  {
   "cell_type": "code",
   "execution_count": 20,
   "metadata": {
    "scrolled": false
   },
   "outputs": [
    {
     "name": "stdout",
     "output_type": "stream",
     "text": [
      "+----+\n",
      "|week|\n",
      "+----+\n",
      "|  53|\n",
      "|  52|\n",
      "|  51|\n",
      "|  50|\n",
      "|  49|\n",
      "+----+\n",
      "only showing top 5 rows\n",
      "\n"
     ]
    }
   ],
   "source": [
    "sqlContext.sql('select distinct(week) from prixall_table order by week DESC').show(5)"
   ]
  },
  {
   "cell_type": "code",
   "execution_count": 21,
   "metadata": {
    "scrolled": true
   },
   "outputs": [
    {
     "name": "stdout",
     "output_type": "stream",
     "text": [
      "+----------+\n",
      "|week_index|\n",
      "+----------+\n",
      "|       208|\n",
      "|       207|\n",
      "|       206|\n",
      "|       205|\n",
      "|       204|\n",
      "+----------+\n",
      "only showing top 5 rows\n",
      "\n"
     ]
    }
   ],
   "source": [
    "sqlContext.sql('select distinct(week_index) from prixall_table order by week_index DESC').show(5)"
   ]
  },
  {
   "cell_type": "markdown",
   "metadata": {},
   "source": [
    "Next, we compute some average in order to get the price_index"
   ]
  },
  {
   "cell_type": "code",
   "execution_count": 22,
   "metadata": {},
   "outputs": [],
   "source": [
    "import pyspark.sql.functions as F"
   ]
  },
  {
   "cell_type": "code",
   "execution_count": 23,
   "metadata": {},
   "outputs": [],
   "source": [
    "prixall_ddf_tmp = (prixall_ddf\n",
    "               .groupby('week','id_carburant')\n",
    "               .agg(F.avg('prix(millieuros)').alias('prix_moyen_fr'))\n",
    "                \n",
    ")"
   ]
  },
  {
   "cell_type": "code",
   "execution_count": 24,
   "metadata": {},
   "outputs": [],
   "source": [
    "prixall_ddf_tmp = (prixall_ddf_tmp\n",
    "                   .withColumnRenamed(\"week\", \"week2\")\n",
    "                   .withColumnRenamed(\"id_carburant\", \"id_carburant2\")\n",
    "                  )"
   ]
  },
  {
   "cell_type": "code",
   "execution_count": 25,
   "metadata": {
    "scrolled": false
   },
   "outputs": [
    {
     "name": "stdout",
     "output_type": "stream",
     "text": [
      "+-----+-------------+------------------+\n",
      "|week2|id_carburant2|     prix_moyen_fr|\n",
      "+-----+-------------+------------------+\n",
      "|    3|            1|1152.7277113373882|\n",
      "|    2|            2|1365.2639077779936|\n",
      "|    2|            3| 741.7595036438842|\n",
      "|    1|            2|1361.8992397298268|\n",
      "|    1|            1|1181.0911314644688|\n",
      "|    1|            3| 732.1840094062317|\n",
      "|    3|            5| 1321.444525103035|\n",
      "|    2|            5|1339.5510921961177|\n",
      "|    1|            4| 753.2087378640776|\n",
      "|    3|            3| 750.1097638800255|\n",
      "|    4|            3| 737.0813096270598|\n",
      "|    2|            1|  1176.55605922038|\n",
      "|    2|            4| 762.2450042617672|\n",
      "|    4|            6|1407.9012798198014|\n",
      "|    3|            6|1403.3414944054618|\n",
      "|    3|            2|1352.4703459098935|\n",
      "|    1|            5| 1340.448898249428|\n",
      "|    4|            2|1356.4011389604266|\n",
      "|    3|            4|  762.974478680361|\n",
      "|    4|            4|  756.958502240239|\n",
      "+-----+-------------+------------------+\n",
      "only showing top 20 rows\n",
      "\n"
     ]
    }
   ],
   "source": [
    "prixall_ddf_tmp.filter(F.col('week2')<5).show()"
   ]
  },
  {
   "cell_type": "code",
   "execution_count": 26,
   "metadata": {},
   "outputs": [],
   "source": [
    "prixall_ddf = (prixall_ddf.join(prixall_ddf_tmp,\n",
    "                                    (prixall_ddf.week == prixall_ddf_tmp.week2) \n",
    "                                    & (prixall_ddf.id_carburant == prixall_ddf_tmp.id_carburant2))\n",
    "                    .drop('week2','id_carburant2')\n",
    "                    .orderBy(['id_pdv','week_index','id_carburant'],ascending=True)\n",
    "                  )"
   ]
  },
  {
   "cell_type": "code",
   "execution_count": 27,
   "metadata": {},
   "outputs": [
    {
     "data": {
      "text/plain": [
       "13054278"
      ]
     },
     "execution_count": 27,
     "metadata": {},
     "output_type": "execute_result"
    }
   ],
   "source": [
    "prixall_ddf.count()"
   ]
  },
  {
   "cell_type": "code",
   "execution_count": 28,
   "metadata": {
    "scrolled": true
   },
   "outputs": [
    {
     "name": "stdout",
     "output_type": "stream",
     "text": [
      "+-------+----+---+--------+---------+------------+-------------+----------------+----+-----+----+----------+---+------------------+\n",
      "| id_pdv|  cp|pop|latitude|longitude|id_carburant|nom_carburant|prix(millieuros)|year|month|week|week_index|day|     prix_moyen_fr|\n",
      "+-------+----+---+--------+---------+------------+-------------+----------------+----+-----+----+----------+---+------------------+\n",
      "|1000001|1000|  R|46.20114|  5.19791|           1|       Gazole|            1075|2014|   12|   1|         1|364|1181.0911314644688|\n",
      "|1000001|1000|  R|46.20114|  5.19791|           1|       Gazole|            1075|2014|   12|   1|         1|365|1181.0911314644688|\n",
      "|1000001|1000|  R|46.20114|  5.19791|           1|       Gazole|            1304|2014|    1|   1|         1|  4|1181.0911314644688|\n",
      "|1000001|1000|  R|46.20114|  5.19791|           1|       Gazole|            1304|2014|    1|   1|         1|  2|1181.0911314644688|\n",
      "|1000001|1000|  R|46.20114|  5.19791|           1|       Gazole|            1304|2014|    1|   1|         1|  5|1181.0911314644688|\n",
      "+-------+----+---+--------+---------+------------+-------------+----------------+----+-----+----+----------+---+------------------+\n",
      "only showing top 5 rows\n",
      "\n"
     ]
    }
   ],
   "source": [
    "prixall_ddf.show(5)"
   ]
  },
  {
   "cell_type": "code",
   "execution_count": 29,
   "metadata": {},
   "outputs": [],
   "source": [
    "prixall_ddf_tmp = (prixall_ddf\n",
    "               .groupby('week','id_carburant','id_pdv')\n",
    "               .agg(F.avg('prix(millieuros)').alias('prix_moyen_station'))\n",
    "                \n",
    ")\n",
    "\n",
    "prixall_ddf_tmp = (prixall_ddf_tmp\n",
    "                   .withColumnRenamed(\"week\", \"week2\")\n",
    "                   .withColumnRenamed(\"id_carburant\", \"id_carburant2\")\n",
    "                   .withColumnRenamed(\"id_pdv\", \"id_pdv2\")\n",
    "                  )\n",
    "\n",
    "prixall_ddf = (prixall_ddf.join(prixall_ddf_tmp,\n",
    "                                    (prixall_ddf.week == prixall_ddf_tmp.week2) \n",
    "                                    & (prixall_ddf.id_carburant == prixall_ddf_tmp.id_carburant2)\n",
    "                                    & (prixall_ddf.id_pdv == prixall_ddf_tmp.id_pdv2))\n",
    "                    .drop('week2','id_carburant2','id_pdv2')\n",
    "                    .orderBy(['id_pdv','week_index','id_carburant'],ascending=True)\n",
    "                  )"
   ]
  },
  {
   "cell_type": "markdown",
   "metadata": {},
   "source": [
    "Finally,we get our price index"
   ]
  },
  {
   "cell_type": "code",
   "execution_count": 30,
   "metadata": {},
   "outputs": [],
   "source": [
    "prixall_ddf = (prixall_ddf.withColumn('price_index',\n",
    "                                      100*(((prixall_ddf.prix_moyen_station - prixall_ddf.prix_moyen_fr) / prixall_ddf.prix_moyen_fr)+1)\n",
    "                                     )\n",
    "              )\n",
    "                                "
   ]
  },
  {
   "cell_type": "code",
   "execution_count": 31,
   "metadata": {
    "scrolled": true
   },
   "outputs": [
    {
     "name": "stdout",
     "output_type": "stream",
     "text": [
      "+-------+----+---+--------+---------+------------+-------------+----------------+----+-----+----+----------+---+------------------+------------------+-----------------+\n",
      "| id_pdv|  cp|pop|latitude|longitude|id_carburant|nom_carburant|prix(millieuros)|year|month|week|week_index|day|     prix_moyen_fr|prix_moyen_station|      price_index|\n",
      "+-------+----+---+--------+---------+------------+-------------+----------------+----+-----+----+----------+---+------------------+------------------+-----------------+\n",
      "|1000001|1000|  R|46.20114|  5.19791|           1|       Gazole|            1075|2014|   12|   1|         1|364|1181.0911314644688|1129.3333333333333|95.61779808921607|\n",
      "|1000001|1000|  R|46.20114|  5.19791|           1|       Gazole|            1304|2014|    1|   1|         1|  5|1181.0911314644688|1129.3333333333333|95.61779808921607|\n",
      "|1000001|1000|  R|46.20114|  5.19791|           1|       Gazole|            1304|2014|    1|   1|         1|  4|1181.0911314644688|1129.3333333333333|95.61779808921607|\n",
      "|1000001|1000|  R|46.20114|  5.19791|           1|       Gazole|            1304|2014|    1|   1|         1|  2|1181.0911314644688|1129.3333333333333|95.61779808921607|\n",
      "|1000001|1000|  R|46.20114|  5.19791|           1|       Gazole|            1075|2014|   12|   1|         1|365|1181.0911314644688|1129.3333333333333|95.61779808921607|\n",
      "+-------+----+---+--------+---------+------------+-------------+----------------+----+-----+----+----------+---+------------------+------------------+-----------------+\n",
      "only showing top 5 rows\n",
      "\n"
     ]
    }
   ],
   "source": [
    "prixall_ddf.show(5)"
   ]
  },
  {
   "cell_type": "markdown",
   "metadata": {},
   "source": [
    "# Data Visualisation"
   ]
  },
  {
   "cell_type": "code",
   "execution_count": 32,
   "metadata": {},
   "outputs": [],
   "source": [
    "prixall_ddf_tmp = (prixall_ddf\n",
    "               .groupby('week_index','id_carburant')\n",
    "               .agg(F.avg('prix(millieuros)').alias('prix_moyen_fr_weekindex'))\n",
    "                \n",
    "                )\n",
    "\n",
    "prixall_ddf_tmp = (prixall_ddf_tmp\n",
    "                   .withColumnRenamed(\"week_index\", \"week_index2\")\n",
    "                   .withColumnRenamed(\"id_carburant\", \"id_carburant2\")\n",
    "                  )\n",
    "\n",
    "prixall_ddf = (prixall_ddf.join(prixall_ddf_tmp,\n",
    "                                    (prixall_ddf.week_index == prixall_ddf_tmp.week_index2) \n",
    "                                    & (prixall_ddf.id_carburant == prixall_ddf_tmp.id_carburant2))\n",
    "                    .drop('week_index2','id_carburant2')\n",
    "                    .orderBy(['id_pdv','week_index','id_carburant'],ascending=True)\n",
    "                  )"
   ]
  },
  {
   "cell_type": "code",
   "execution_count": 33,
   "metadata": {},
   "outputs": [
    {
     "name": "stdout",
     "output_type": "stream",
     "text": [
      "+-------+----+---+--------+---------+------------+-------------+----------------+----+-----+----+----------+---+------------------+------------------+-----------------+-----------------------+\n",
      "| id_pdv|  cp|pop|latitude|longitude|id_carburant|nom_carburant|prix(millieuros)|year|month|week|week_index|day|     prix_moyen_fr|prix_moyen_station|      price_index|prix_moyen_fr_weekindex|\n",
      "+-------+----+---+--------+---------+------------+-------------+----------------+----+-----+----+----------+---+------------------+------------------+-----------------+-----------------------+\n",
      "|1000001|1000|  R|46.20114|  5.19791|           1|       Gazole|            1075|2014|   12|   1|         1|364|1181.0911314644688|1129.3333333333333|95.61779808921607|     1221.7955122777307|\n",
      "|1000001|1000|  R|46.20114|  5.19791|           1|       Gazole|            1075|2014|   12|   1|         1|365|1181.0911314644688|1129.3333333333333|95.61779808921607|     1221.7955122777307|\n",
      "|1000001|1000|  R|46.20114|  5.19791|           1|       Gazole|            1304|2014|    1|   1|         1|  4|1181.0911314644688|1129.3333333333333|95.61779808921607|     1221.7955122777307|\n",
      "|1000001|1000|  R|46.20114|  5.19791|           1|       Gazole|            1304|2014|    1|   1|         1|  2|1181.0911314644688|1129.3333333333333|95.61779808921607|     1221.7955122777307|\n",
      "|1000001|1000|  R|46.20114|  5.19791|           1|       Gazole|            1304|2014|    1|   1|         1|  5|1181.0911314644688|1129.3333333333333|95.61779808921607|     1221.7955122777307|\n",
      "+-------+----+---+--------+---------+------------+-------------+----------------+----+-----+----+----------+---+------------------+------------------+-----------------+-----------------------+\n",
      "only showing top 5 rows\n",
      "\n"
     ]
    }
   ],
   "source": [
    "prixall_ddf.show(5)"
   ]
  },
  {
   "cell_type": "markdown",
   "metadata": {},
   "source": [
    "I use seaborn to plot the prix_moyen_fr_weekindex just computed."
   ]
  },
  {
   "cell_type": "code",
   "execution_count": 34,
   "metadata": {},
   "outputs": [],
   "source": [
    "import seaborn as sns\n",
    "import matplotlib.pyplot as plt"
   ]
  },
  {
   "cell_type": "code",
   "execution_count": 35,
   "metadata": {
    "scrolled": false
   },
   "outputs": [
    {
     "data": {
      "image/png": "[encoded data removed]",
      "text/plain": [
       "<Figure size 1296x216 with 6 Axes>"
      ]
     },
     "metadata": {
      "needs_background": "light"
     },
     "output_type": "display_data"
    }
   ],
   "source": [
    "prixall_pd = prixall_ddf.toPandas() \n",
    "g = sns.FacetGrid(prixall_pd,col='id_carburant')\n",
    "g = g.map(plt.plot, \"week_index\", \"prix_moyen_fr_weekindex\", marker=\".\")"
   ]
  },
  {
   "cell_type": "markdown",
   "metadata": {},
   "source": [
    "It seems that prices vary quite frequently which creates lineplots ressembling polygons...\n",
    "Otherwise, we can see 2 carburants that are quite lower than the other types."
   ]
  },
  {
   "cell_type": "markdown",
   "metadata": {},
   "source": [
    "Next, I will try to get some work done on geodata.\n",
    "From https://www.data.gouv.fr/fr/datasets/contours-des-departements-francais-issus-d-openstreetmap/,\n",
    "I retrieved delimitations of french departements.\n",
    "I will use geopandas and the underlying shapely packages."
   ]
  },
  {
   "cell_type": "code",
   "execution_count": 36,
   "metadata": {},
   "outputs": [],
   "source": [
    "#!pip install geopandas\n",
    "#!pip install descartes\n",
    "import geopandas as gpd\n",
    "import descartes"
   ]
  },
  {
   "cell_type": "markdown",
   "metadata": {},
   "source": [
    "The department data is in the form of a shapefile (.shp)"
   ]
  },
  {
   "cell_type": "code",
   "execution_count": 37,
   "metadata": {
    "scrolled": true
   },
   "outputs": [
    {
     "data": {
      "text/html": [
       "<div>\n",
       "<style scoped>\n",
       "    .dataframe tbody tr th:only-of-type {\n",
       "        vertical-align: middle;\n",
       "    }\n",
       "\n",
       "    .dataframe tbody tr th {\n",
       "        vertical-align: top;\n",
       "    }\n",
       "\n",
       "    .dataframe thead th {\n",
       "        text-align: right;\n",
       "    }\n",
       "</style>\n",
       "<table border=\"1\" class=\"dataframe\">\n",
       "  <thead>\n",
       "    <tr style=\"text-align: right;\">\n",
       "      <th></th>\n",
       "      <th>code_insee</th>\n",
       "      <th>nom</th>\n",
       "      <th>nuts3</th>\n",
       "      <th>wikipedia</th>\n",
       "      <th>surf_km2</th>\n",
       "      <th>geometry</th>\n",
       "    </tr>\n",
       "  </thead>\n",
       "  <tbody>\n",
       "    <tr>\n",
       "      <th>0</th>\n",
       "      <td>974</td>\n",
       "      <td>La Réunion</td>\n",
       "      <td>FR940</td>\n",
       "      <td>fr:La Réunion</td>\n",
       "      <td>2505.0</td>\n",
       "      <td>MULTIPOLYGON (((55.21643 -21.03904, 55.21652 -...</td>\n",
       "    </tr>\n",
       "    <tr>\n",
       "      <th>1</th>\n",
       "      <td>11</td>\n",
       "      <td>Aude</td>\n",
       "      <td>FR811</td>\n",
       "      <td>fr:Aude (département)</td>\n",
       "      <td>6343.0</td>\n",
       "      <td>POLYGON ((1.68872 43.27368, 1.69001 43.27423, ...</td>\n",
       "    </tr>\n",
       "    <tr>\n",
       "      <th>2</th>\n",
       "      <td>43</td>\n",
       "      <td>Haute-Loire</td>\n",
       "      <td>FR723</td>\n",
       "      <td>fr:Haute-Loire</td>\n",
       "      <td>5003.0</td>\n",
       "      <td>POLYGON ((3.08206 45.28988, 3.08209 45.29031, ...</td>\n",
       "    </tr>\n",
       "    <tr>\n",
       "      <th>3</th>\n",
       "      <td>13</td>\n",
       "      <td>Bouches-du-Rhône</td>\n",
       "      <td>FR823</td>\n",
       "      <td>fr:Bouches-du-Rhône</td>\n",
       "      <td>5247.0</td>\n",
       "      <td>MULTIPOLYGON (((4.23014 43.46047, 4.23025 43.4...</td>\n",
       "    </tr>\n",
       "    <tr>\n",
       "      <th>4</th>\n",
       "      <td>47</td>\n",
       "      <td>Lot-et-Garonne</td>\n",
       "      <td>FR614</td>\n",
       "      <td>fr:Lot-et-Garonne</td>\n",
       "      <td>5385.0</td>\n",
       "      <td>POLYGON ((-0.14058 44.22648, -0.12931 44.23218...</td>\n",
       "    </tr>\n",
       "    <tr>\n",
       "      <th>5</th>\n",
       "      <td>23</td>\n",
       "      <td>Creuse</td>\n",
       "      <td>FR632</td>\n",
       "      <td>fr:Creuse (département)</td>\n",
       "      <td>5599.0</td>\n",
       "      <td>POLYGON ((1.37254 46.21672, 1.37257 46.21677, ...</td>\n",
       "    </tr>\n",
       "    <tr>\n",
       "      <th>6</th>\n",
       "      <td>19</td>\n",
       "      <td>Corrèze</td>\n",
       "      <td>FR631</td>\n",
       "      <td>fr:Corrèze (département)</td>\n",
       "      <td>5898.0</td>\n",
       "      <td>POLYGON ((1.22696 45.27178, 1.22705 45.27180, ...</td>\n",
       "    </tr>\n",
       "    <tr>\n",
       "      <th>7</th>\n",
       "      <td>15</td>\n",
       "      <td>Cantal</td>\n",
       "      <td>FR722</td>\n",
       "      <td>fr:Cantal (département)</td>\n",
       "      <td>5774.0</td>\n",
       "      <td>POLYGON ((2.06290 44.97664, 2.06355 44.97666, ...</td>\n",
       "    </tr>\n",
       "    <tr>\n",
       "      <th>8</th>\n",
       "      <td>91</td>\n",
       "      <td>Essonne</td>\n",
       "      <td>FR104</td>\n",
       "      <td>fr:Essonne (département)</td>\n",
       "      <td>1819.0</td>\n",
       "      <td>POLYGON ((1.91446 48.46186, 1.91557 48.46495, ...</td>\n",
       "    </tr>\n",
       "    <tr>\n",
       "      <th>9</th>\n",
       "      <td>76</td>\n",
       "      <td>Seine-Maritime</td>\n",
       "      <td>FR232</td>\n",
       "      <td>fr:Seine-Maritime</td>\n",
       "      <td>6329.0</td>\n",
       "      <td>POLYGON ((0.06577 49.51269, 0.06591 49.51310, ...</td>\n",
       "    </tr>\n",
       "    <tr>\n",
       "      <th>10</th>\n",
       "      <td>38</td>\n",
       "      <td>Isère</td>\n",
       "      <td>FR714</td>\n",
       "      <td>fr:Isère (département)</td>\n",
       "      <td>7878.0</td>\n",
       "      <td>POLYGON ((4.74157 45.41589, 4.74158 45.41627, ...</td>\n",
       "    </tr>\n",
       "    <tr>\n",
       "      <th>11</th>\n",
       "      <td>2A</td>\n",
       "      <td>Corse-du-Sud</td>\n",
       "      <td>FR831</td>\n",
       "      <td>fr:Corse-du-Sud</td>\n",
       "      <td>4017.0</td>\n",
       "      <td>MULTIPOLYGON (((8.53996 42.23689, 8.54030 42.2...</td>\n",
       "    </tr>\n",
       "    <tr>\n",
       "      <th>12</th>\n",
       "      <td>2B</td>\n",
       "      <td>Haute-Corse</td>\n",
       "      <td>FR832</td>\n",
       "      <td>fr:Haute-Corse</td>\n",
       "      <td>4704.0</td>\n",
       "      <td>MULTIPOLYGON (((8.57438 42.38217, 8.57508 42.3...</td>\n",
       "    </tr>\n",
       "    <tr>\n",
       "      <th>13</th>\n",
       "      <td>63</td>\n",
       "      <td>Puy-de-Dôme</td>\n",
       "      <td>FR724</td>\n",
       "      <td>fr:Puy-de-Dôme</td>\n",
       "      <td>8015.0</td>\n",
       "      <td>POLYGON ((2.38802 45.82583, 2.38802 45.82587, ...</td>\n",
       "    </tr>\n",
       "    <tr>\n",
       "      <th>14</th>\n",
       "      <td>81</td>\n",
       "      <td>Tarn</td>\n",
       "      <td>FR627</td>\n",
       "      <td>fr:Tarn (département)</td>\n",
       "      <td>5782.0</td>\n",
       "      <td>POLYGON ((1.53530 43.95960, 1.53551 43.95967, ...</td>\n",
       "    </tr>\n",
       "    <tr>\n",
       "      <th>15</th>\n",
       "      <td>74</td>\n",
       "      <td>Haute-Savoie</td>\n",
       "      <td>FR716</td>\n",
       "      <td>fr:Haute-Savoie</td>\n",
       "      <td>4840.0</td>\n",
       "      <td>POLYGON ((5.80513 46.01485, 5.80518 46.01571, ...</td>\n",
       "    </tr>\n",
       "    <tr>\n",
       "      <th>16</th>\n",
       "      <td>73</td>\n",
       "      <td>Savoie</td>\n",
       "      <td>FR718</td>\n",
       "      <td>fr:Savoie (département)</td>\n",
       "      <td>6269.0</td>\n",
       "      <td>POLYGON ((5.62183 45.61205, 5.62200 45.61252, ...</td>\n",
       "    </tr>\n",
       "    <tr>\n",
       "      <th>17</th>\n",
       "      <td>06</td>\n",
       "      <td>Alpes-Maritimes</td>\n",
       "      <td>FR823</td>\n",
       "      <td>fr:Alpes-Maritimes</td>\n",
       "      <td>4294.0</td>\n",
       "      <td>MULTIPOLYGON (((6.63330 43.78508, 6.63371 43.7...</td>\n",
       "    </tr>\n",
       "    <tr>\n",
       "      <th>18</th>\n",
       "      <td>34</td>\n",
       "      <td>Hérault</td>\n",
       "      <td>FR813</td>\n",
       "      <td>fr:Hérault (département)</td>\n",
       "      <td>6232.0</td>\n",
       "      <td>MULTIPOLYGON (((2.53955 43.34589, 2.53981 43.3...</td>\n",
       "    </tr>\n",
       "    <tr>\n",
       "      <th>19</th>\n",
       "      <td>62</td>\n",
       "      <td>Pas-de-Calais</td>\n",
       "      <td>FR302</td>\n",
       "      <td>fr:Pas-de-Calais</td>\n",
       "      <td>6692.0</td>\n",
       "      <td>MULTIPOLYGON (((1.55562 50.40027, 1.55575 50.4...</td>\n",
       "    </tr>\n",
       "    <tr>\n",
       "      <th>20</th>\n",
       "      <td>80</td>\n",
       "      <td>Somme</td>\n",
       "      <td>FR223</td>\n",
       "      <td>fr:Somme (département)</td>\n",
       "      <td>6191.0</td>\n",
       "      <td>MULTIPOLYGON (((1.37983 50.06518, 1.38000 50.0...</td>\n",
       "    </tr>\n",
       "    <tr>\n",
       "      <th>21</th>\n",
       "      <td>972</td>\n",
       "      <td>Martinique</td>\n",
       "      <td>FR920</td>\n",
       "      <td>fr:Martinique</td>\n",
       "      <td>1089.0</td>\n",
       "      <td>MULTIPOLYGON (((-61.22908 14.82247, -61.22895 ...</td>\n",
       "    </tr>\n",
       "    <tr>\n",
       "      <th>22</th>\n",
       "      <td>65</td>\n",
       "      <td>Hautes-Pyrénées</td>\n",
       "      <td>FR626</td>\n",
       "      <td>fr:Hautes-Pyrénées</td>\n",
       "      <td>4519.0</td>\n",
       "      <td>MULTIPOLYGON (((-0.32765 42.91743, -0.32529 42...</td>\n",
       "    </tr>\n",
       "    <tr>\n",
       "      <th>23</th>\n",
       "      <td>12</td>\n",
       "      <td>Aveyron</td>\n",
       "      <td>FR622</td>\n",
       "      <td>fr:Aveyron (département)</td>\n",
       "      <td>8773.0</td>\n",
       "      <td>POLYGON ((1.83966 44.47586, 1.83969 44.47613, ...</td>\n",
       "    </tr>\n",
       "    <tr>\n",
       "      <th>24</th>\n",
       "      <td>40</td>\n",
       "      <td>Landes</td>\n",
       "      <td>FR613</td>\n",
       "      <td>fr:Landes (département)</td>\n",
       "      <td>9355.0</td>\n",
       "      <td>POLYGON ((-1.53338 43.53150, -1.53332 43.53158...</td>\n",
       "    </tr>\n",
       "    <tr>\n",
       "      <th>25</th>\n",
       "      <td>64</td>\n",
       "      <td>Pyrénées-Atlantiques</td>\n",
       "      <td>FR615</td>\n",
       "      <td>fr:Pyrénées-Atlantiques</td>\n",
       "      <td>7683.0</td>\n",
       "      <td>MULTIPOLYGON (((-1.79102 43.37292, -1.79048 43...</td>\n",
       "    </tr>\n",
       "    <tr>\n",
       "      <th>26</th>\n",
       "      <td>66</td>\n",
       "      <td>Pyrénées-Orientales</td>\n",
       "      <td>FR815</td>\n",
       "      <td>fr:Pyrénées-Orientales</td>\n",
       "      <td>4137.0</td>\n",
       "      <td>POLYGON ((1.72253 42.51769, 1.72332 42.51818, ...</td>\n",
       "    </tr>\n",
       "    <tr>\n",
       "      <th>27</th>\n",
       "      <td>87</td>\n",
       "      <td>Haute-Vienne</td>\n",
       "      <td>FR633</td>\n",
       "      <td>fr:Haute-Vienne</td>\n",
       "      <td>5557.0</td>\n",
       "      <td>POLYGON ((0.62934 45.71480, 0.62991 45.71511, ...</td>\n",
       "    </tr>\n",
       "    <tr>\n",
       "      <th>28</th>\n",
       "      <td>33</td>\n",
       "      <td>Gironde</td>\n",
       "      <td>FR612</td>\n",
       "      <td>fr:Gironde (département)</td>\n",
       "      <td>10086.0</td>\n",
       "      <td>MULTIPOLYGON (((-1.26138 44.64239, -1.26122 44...</td>\n",
       "    </tr>\n",
       "    <tr>\n",
       "      <th>29</th>\n",
       "      <td>36</td>\n",
       "      <td>Indre</td>\n",
       "      <td>FR243</td>\n",
       "      <td>fr:Indre (département)</td>\n",
       "      <td>6898.0</td>\n",
       "      <td>POLYGON ((0.86711 46.74873, 0.87618 46.75100, ...</td>\n",
       "    </tr>\n",
       "    <tr>\n",
       "      <th>...</th>\n",
       "      <td>...</td>\n",
       "      <td>...</td>\n",
       "      <td>...</td>\n",
       "      <td>...</td>\n",
       "      <td>...</td>\n",
       "      <td>...</td>\n",
       "    </tr>\n",
       "    <tr>\n",
       "      <th>72</th>\n",
       "      <td>50</td>\n",
       "      <td>Manche</td>\n",
       "      <td>FR252</td>\n",
       "      <td>fr:Manche (département)</td>\n",
       "      <td>6040.0</td>\n",
       "      <td>MULTIPOLYGON (((-1.94877 49.71649, -1.94836 49...</td>\n",
       "    </tr>\n",
       "    <tr>\n",
       "      <th>73</th>\n",
       "      <td>78</td>\n",
       "      <td>Yvelines</td>\n",
       "      <td>FR103</td>\n",
       "      <td>fr:Yvelines</td>\n",
       "      <td>2306.0</td>\n",
       "      <td>POLYGON ((1.44624 49.04639, 1.44945 49.04765, ...</td>\n",
       "    </tr>\n",
       "    <tr>\n",
       "      <th>74</th>\n",
       "      <td>27</td>\n",
       "      <td>Eure</td>\n",
       "      <td>FR231</td>\n",
       "      <td>fr:Eure (département)</td>\n",
       "      <td>6031.0</td>\n",
       "      <td>POLYGON ((0.29616 49.42987, 0.30281 49.43038, ...</td>\n",
       "    </tr>\n",
       "    <tr>\n",
       "      <th>75</th>\n",
       "      <td>28</td>\n",
       "      <td>Eure-et-Loir</td>\n",
       "      <td>FR242</td>\n",
       "      <td>fr:Eure-et-Loir</td>\n",
       "      <td>5931.0</td>\n",
       "      <td>POLYGON ((0.75565 48.29990, 0.75585 48.30036, ...</td>\n",
       "    </tr>\n",
       "    <tr>\n",
       "      <th>76</th>\n",
       "      <td>29</td>\n",
       "      <td>Finistère</td>\n",
       "      <td>FR522</td>\n",
       "      <td>fr:Finistère</td>\n",
       "      <td>6796.0</td>\n",
       "      <td>MULTIPOLYGON (((-4.79551 48.41438, -4.79551 48...</td>\n",
       "    </tr>\n",
       "    <tr>\n",
       "      <th>77</th>\n",
       "      <td>70</td>\n",
       "      <td>Haute-Saône</td>\n",
       "      <td>FR433</td>\n",
       "      <td>fr:Haute-Saône</td>\n",
       "      <td>5390.0</td>\n",
       "      <td>POLYGON ((5.36695 47.46497, 5.36695 47.46510, ...</td>\n",
       "    </tr>\n",
       "    <tr>\n",
       "      <th>78</th>\n",
       "      <td>21</td>\n",
       "      <td>Côte-d'Or</td>\n",
       "      <td>FR261</td>\n",
       "      <td>fr:Côte-d'Or</td>\n",
       "      <td>8802.0</td>\n",
       "      <td>MULTIPOLYGON (((4.06540 47.40725, 4.06759 47.4...</td>\n",
       "    </tr>\n",
       "    <tr>\n",
       "      <th>79</th>\n",
       "      <td>973</td>\n",
       "      <td>Guyane</td>\n",
       "      <td>FR930</td>\n",
       "      <td>fr:Guyane</td>\n",
       "      <td>83543.0</td>\n",
       "      <td>MULTIPOLYGON (((-54.60278 2.33370, -54.60268 2...</td>\n",
       "    </tr>\n",
       "    <tr>\n",
       "      <th>80</th>\n",
       "      <td>53</td>\n",
       "      <td>Mayenne</td>\n",
       "      <td>FR513</td>\n",
       "      <td>fr:Mayenne (département)</td>\n",
       "      <td>5213.0</td>\n",
       "      <td>POLYGON ((-1.23885 47.80950, -1.23877 47.80962...</td>\n",
       "    </tr>\n",
       "    <tr>\n",
       "      <th>81</th>\n",
       "      <td>49</td>\n",
       "      <td>Maine-et-Loire</td>\n",
       "      <td>FR512</td>\n",
       "      <td>fr:Maine-et-Loire</td>\n",
       "      <td>7172.0</td>\n",
       "      <td>MULTIPOLYGON (((-1.35422 47.30435, -1.35382 47...</td>\n",
       "    </tr>\n",
       "    <tr>\n",
       "      <th>82</th>\n",
       "      <td>41</td>\n",
       "      <td>Loir-et-Cher</td>\n",
       "      <td>FR245</td>\n",
       "      <td>fr:Loir-et-Cher</td>\n",
       "      <td>6422.0</td>\n",
       "      <td>POLYGON ((0.58055 47.71290, 0.58239 47.71464, ...</td>\n",
       "    </tr>\n",
       "    <tr>\n",
       "      <th>83</th>\n",
       "      <td>16</td>\n",
       "      <td>Charente</td>\n",
       "      <td>FR531</td>\n",
       "      <td>fr:Charente (département)</td>\n",
       "      <td>5973.0</td>\n",
       "      <td>POLYGON ((-0.46314 45.75191, -0.46299 45.75206...</td>\n",
       "    </tr>\n",
       "    <tr>\n",
       "      <th>84</th>\n",
       "      <td>37</td>\n",
       "      <td>Indre-et-Loire</td>\n",
       "      <td>FR244</td>\n",
       "      <td>fr:Indre-et-Loire</td>\n",
       "      <td>6157.0</td>\n",
       "      <td>POLYGON ((0.05272 47.19656, 0.05321 47.19721, ...</td>\n",
       "    </tr>\n",
       "    <tr>\n",
       "      <th>85</th>\n",
       "      <td>17</td>\n",
       "      <td>Charente-Maritime</td>\n",
       "      <td>FR532</td>\n",
       "      <td>fr:Charente-Maritime</td>\n",
       "      <td>6906.0</td>\n",
       "      <td>MULTIPOLYGON (((-1.24366 45.77490, -1.24349 45...</td>\n",
       "    </tr>\n",
       "    <tr>\n",
       "      <th>86</th>\n",
       "      <td>90</td>\n",
       "      <td>Territoire-de-Belfort</td>\n",
       "      <td>FR434</td>\n",
       "      <td>fr:Territoire de Belfort</td>\n",
       "      <td>611.0</td>\n",
       "      <td>POLYGON ((6.75646 47.72497, 6.75659 47.72507, ...</td>\n",
       "    </tr>\n",
       "    <tr>\n",
       "      <th>87</th>\n",
       "      <td>26</td>\n",
       "      <td>Drôme</td>\n",
       "      <td>FR713</td>\n",
       "      <td>fr:Drôme (département)</td>\n",
       "      <td>6558.0</td>\n",
       "      <td>POLYGON ((4.64691 44.35062, 4.64693 44.35128, ...</td>\n",
       "    </tr>\n",
       "    <tr>\n",
       "      <th>88</th>\n",
       "      <td>05</td>\n",
       "      <td>Hautes-Alpes</td>\n",
       "      <td>FR822</td>\n",
       "      <td>fr:Hautes-Alpes</td>\n",
       "      <td>5697.0</td>\n",
       "      <td>POLYGON ((5.41839 44.42476, 5.41852 44.42493, ...</td>\n",
       "    </tr>\n",
       "    <tr>\n",
       "      <th>89</th>\n",
       "      <td>55</td>\n",
       "      <td>Meuse</td>\n",
       "      <td>FR412</td>\n",
       "      <td>fr:Meuse (département)</td>\n",
       "      <td>6235.0</td>\n",
       "      <td>POLYGON ((4.88846 48.80060, 4.88854 48.80062, ...</td>\n",
       "    </tr>\n",
       "    <tr>\n",
       "      <th>90</th>\n",
       "      <td>10</td>\n",
       "      <td>Aube</td>\n",
       "      <td>FR212</td>\n",
       "      <td>fr:Aube (département)</td>\n",
       "      <td>6027.0</td>\n",
       "      <td>POLYGON ((3.38364 48.47958, 3.38370 48.47963, ...</td>\n",
       "    </tr>\n",
       "    <tr>\n",
       "      <th>91</th>\n",
       "      <td>52</td>\n",
       "      <td>Haute-Marne</td>\n",
       "      <td>FR214</td>\n",
       "      <td>fr:Haute-Marne</td>\n",
       "      <td>6256.0</td>\n",
       "      <td>POLYGON ((4.62751 48.46717, 4.62755 48.46725, ...</td>\n",
       "    </tr>\n",
       "    <tr>\n",
       "      <th>92</th>\n",
       "      <td>88</td>\n",
       "      <td>Vosges</td>\n",
       "      <td>FR414</td>\n",
       "      <td>fr:Vosges (département)</td>\n",
       "      <td>5897.0</td>\n",
       "      <td>POLYGON ((5.39361 48.39177, 5.39373 48.39181, ...</td>\n",
       "    </tr>\n",
       "    <tr>\n",
       "      <th>93</th>\n",
       "      <td>976</td>\n",
       "      <td>Mayotte</td>\n",
       "      <td>None</td>\n",
       "      <td>fr:Mayotte</td>\n",
       "      <td>366.0</td>\n",
       "      <td>MULTIPOLYGON (((45.03981 -12.72228, 45.03981 -...</td>\n",
       "    </tr>\n",
       "    <tr>\n",
       "      <th>94</th>\n",
       "      <td>84</td>\n",
       "      <td>Vaucluse</td>\n",
       "      <td>FR826</td>\n",
       "      <td>fr:Vaucluse (département)</td>\n",
       "      <td>3577.0</td>\n",
       "      <td>MULTIPOLYGON (((4.64857 44.26372, 4.64867 44.2...</td>\n",
       "    </tr>\n",
       "    <tr>\n",
       "      <th>95</th>\n",
       "      <td>48</td>\n",
       "      <td>Lozère</td>\n",
       "      <td>FR814</td>\n",
       "      <td>fr:Lozère (département)</td>\n",
       "      <td>5175.0</td>\n",
       "      <td>POLYGON ((2.98226 44.64515, 2.98304 44.64546, ...</td>\n",
       "    </tr>\n",
       "    <tr>\n",
       "      <th>96</th>\n",
       "      <td>04</td>\n",
       "      <td>Alpes-de-Haute-Provence</td>\n",
       "      <td>FR821</td>\n",
       "      <td>fr:Alpes-de-Haute-Provence</td>\n",
       "      <td>6993.0</td>\n",
       "      <td>POLYGON ((5.49642 44.10309, 5.49726 44.10367, ...</td>\n",
       "    </tr>\n",
       "    <tr>\n",
       "      <th>97</th>\n",
       "      <td>56</td>\n",
       "      <td>Morbihan</td>\n",
       "      <td>FR524</td>\n",
       "      <td>fr:Morbihan</td>\n",
       "      <td>6870.0</td>\n",
       "      <td>MULTIPOLYGON (((-3.73508 48.11140, -3.73507 48...</td>\n",
       "    </tr>\n",
       "    <tr>\n",
       "      <th>98</th>\n",
       "      <td>25</td>\n",
       "      <td>Doubs</td>\n",
       "      <td>FR431</td>\n",
       "      <td>fr:Doubs (département)</td>\n",
       "      <td>5256.0</td>\n",
       "      <td>POLYGON ((5.69876 47.26464, 5.69877 47.26481, ...</td>\n",
       "    </tr>\n",
       "    <tr>\n",
       "      <th>99</th>\n",
       "      <td>39</td>\n",
       "      <td>Jura</td>\n",
       "      <td>FR432</td>\n",
       "      <td>fr:Jura (département)</td>\n",
       "      <td>5049.0</td>\n",
       "      <td>MULTIPOLYGON (((5.25202 46.94451, 5.25208 46.9...</td>\n",
       "    </tr>\n",
       "    <tr>\n",
       "      <th>100</th>\n",
       "      <td>07</td>\n",
       "      <td>Ardèche</td>\n",
       "      <td>FR712</td>\n",
       "      <td>fr:Ardèche (département)</td>\n",
       "      <td>5566.0</td>\n",
       "      <td>POLYGON ((3.86110 44.71118, 3.86110 44.71151, ...</td>\n",
       "    </tr>\n",
       "    <tr>\n",
       "      <th>101</th>\n",
       "      <td>30</td>\n",
       "      <td>Gard</td>\n",
       "      <td>FR812</td>\n",
       "      <td>fr:Gard</td>\n",
       "      <td>5875.0</td>\n",
       "      <td>POLYGON ((3.26190 44.09335, 3.26221 44.09389, ...</td>\n",
       "    </tr>\n",
       "  </tbody>\n",
       "</table>\n",
       "<p>102 rows × 6 columns</p>\n",
       "</div>"
      ],
      "text/plain": [
       "    code_insee                      nom  nuts3                   wikipedia  \\\n",
       "0          974               La Réunion  FR940               fr:La Réunion   \n",
       "1           11                     Aude  FR811       fr:Aude (département)   \n",
       "2           43              Haute-Loire  FR723              fr:Haute-Loire   \n",
       "3           13         Bouches-du-Rhône  FR823         fr:Bouches-du-Rhône   \n",
       "4           47           Lot-et-Garonne  FR614           fr:Lot-et-Garonne   \n",
       "5           23                   Creuse  FR632     fr:Creuse (département)   \n",
       "6           19                  Corrèze  FR631    fr:Corrèze (département)   \n",
       "7           15                   Cantal  FR722     fr:Cantal (département)   \n",
       "8           91                  Essonne  FR104    fr:Essonne (département)   \n",
       "9           76           Seine-Maritime  FR232           fr:Seine-Maritime   \n",
       "10          38                    Isère  FR714      fr:Isère (département)   \n",
       "11          2A             Corse-du-Sud  FR831             fr:Corse-du-Sud   \n",
       "12          2B              Haute-Corse  FR832              fr:Haute-Corse   \n",
       "13          63              Puy-de-Dôme  FR724              fr:Puy-de-Dôme   \n",
       "14          81                     Tarn  FR627       fr:Tarn (département)   \n",
       "15          74             Haute-Savoie  FR716             fr:Haute-Savoie   \n",
       "16          73                   Savoie  FR718     fr:Savoie (département)   \n",
       "17          06          Alpes-Maritimes  FR823          fr:Alpes-Maritimes   \n",
       "18          34                  Hérault  FR813    fr:Hérault (département)   \n",
       "19          62            Pas-de-Calais  FR302            fr:Pas-de-Calais   \n",
       "20          80                    Somme  FR223      fr:Somme (département)   \n",
       "21         972               Martinique  FR920               fr:Martinique   \n",
       "22          65          Hautes-Pyrénées  FR626          fr:Hautes-Pyrénées   \n",
       "23          12                  Aveyron  FR622    fr:Aveyron (département)   \n",
       "24          40                   Landes  FR613     fr:Landes (département)   \n",
       "25          64     Pyrénées-Atlantiques  FR615     fr:Pyrénées-Atlantiques   \n",
       "26          66      Pyrénées-Orientales  FR815      fr:Pyrénées-Orientales   \n",
       "27          87             Haute-Vienne  FR633             fr:Haute-Vienne   \n",
       "28          33                  Gironde  FR612    fr:Gironde (département)   \n",
       "29          36                    Indre  FR243      fr:Indre (département)   \n",
       "..         ...                      ...    ...                         ...   \n",
       "72          50                   Manche  FR252     fr:Manche (département)   \n",
       "73          78                 Yvelines  FR103                 fr:Yvelines   \n",
       "74          27                     Eure  FR231       fr:Eure (département)   \n",
       "75          28             Eure-et-Loir  FR242             fr:Eure-et-Loir   \n",
       "76          29                Finistère  FR522                fr:Finistère   \n",
       "77          70              Haute-Saône  FR433              fr:Haute-Saône   \n",
       "78          21                Côte-d'Or  FR261                fr:Côte-d'Or   \n",
       "79         973                   Guyane  FR930                   fr:Guyane   \n",
       "80          53                  Mayenne  FR513    fr:Mayenne (département)   \n",
       "81          49           Maine-et-Loire  FR512           fr:Maine-et-Loire   \n",
       "82          41             Loir-et-Cher  FR245             fr:Loir-et-Cher   \n",
       "83          16                 Charente  FR531   fr:Charente (département)   \n",
       "84          37           Indre-et-Loire  FR244           fr:Indre-et-Loire   \n",
       "85          17        Charente-Maritime  FR532        fr:Charente-Maritime   \n",
       "86          90    Territoire-de-Belfort  FR434    fr:Territoire de Belfort   \n",
       "87          26                    Drôme  FR713      fr:Drôme (département)   \n",
       "88          05             Hautes-Alpes  FR822             fr:Hautes-Alpes   \n",
       "89          55                    Meuse  FR412      fr:Meuse (département)   \n",
       "90          10                     Aube  FR212       fr:Aube (département)   \n",
       "91          52              Haute-Marne  FR214              fr:Haute-Marne   \n",
       "92          88                   Vosges  FR414     fr:Vosges (département)   \n",
       "93         976                  Mayotte   None                  fr:Mayotte   \n",
       "94          84                 Vaucluse  FR826   fr:Vaucluse (département)   \n",
       "95          48                   Lozère  FR814     fr:Lozère (département)   \n",
       "96          04  Alpes-de-Haute-Provence  FR821  fr:Alpes-de-Haute-Provence   \n",
       "97          56                 Morbihan  FR524                 fr:Morbihan   \n",
       "98          25                    Doubs  FR431      fr:Doubs (département)   \n",
       "99          39                     Jura  FR432       fr:Jura (département)   \n",
       "100         07                  Ardèche  FR712    fr:Ardèche (département)   \n",
       "101         30                     Gard  FR812                     fr:Gard   \n",
       "\n",
       "     surf_km2                                           geometry  \n",
       "0      2505.0  MULTIPOLYGON (((55.21643 -21.03904, 55.21652 -...  \n",
       "1      6343.0  POLYGON ((1.68872 43.27368, 1.69001 43.27423, ...  \n",
       "2      5003.0  POLYGON ((3.08206 45.28988, 3.08209 45.29031, ...  \n",
       "3      5247.0  MULTIPOLYGON (((4.23014 43.46047, 4.23025 43.4...  \n",
       "4      5385.0  POLYGON ((-0.14058 44.22648, -0.12931 44.23218...  \n",
       "5      5599.0  POLYGON ((1.37254 46.21672, 1.37257 46.21677, ...  \n",
       "6      5898.0  POLYGON ((1.22696 45.27178, 1.22705 45.27180, ...  \n",
       "7      5774.0  POLYGON ((2.06290 44.97664, 2.06355 44.97666, ...  \n",
       "8      1819.0  POLYGON ((1.91446 48.46186, 1.91557 48.46495, ...  \n",
       "9      6329.0  POLYGON ((0.06577 49.51269, 0.06591 49.51310, ...  \n",
       "10     7878.0  POLYGON ((4.74157 45.41589, 4.74158 45.41627, ...  \n",
       "11     4017.0  MULTIPOLYGON (((8.53996 42.23689, 8.54030 42.2...  \n",
       "12     4704.0  MULTIPOLYGON (((8.57438 42.38217, 8.57508 42.3...  \n",
       "13     8015.0  POLYGON ((2.38802 45.82583, 2.38802 45.82587, ...  \n",
       "14     5782.0  POLYGON ((1.53530 43.95960, 1.53551 43.95967, ...  \n",
       "15     4840.0  POLYGON ((5.80513 46.01485, 5.80518 46.01571, ...  \n",
       "16     6269.0  POLYGON ((5.62183 45.61205, 5.62200 45.61252, ...  \n",
       "17     4294.0  MULTIPOLYGON (((6.63330 43.78508, 6.63371 43.7...  \n",
       "18     6232.0  MULTIPOLYGON (((2.53955 43.34589, 2.53981 43.3...  \n",
       "19     6692.0  MULTIPOLYGON (((1.55562 50.40027, 1.55575 50.4...  \n",
       "20     6191.0  MULTIPOLYGON (((1.37983 50.06518, 1.38000 50.0...  \n",
       "21     1089.0  MULTIPOLYGON (((-61.22908 14.82247, -61.22895 ...  \n",
       "22     4519.0  MULTIPOLYGON (((-0.32765 42.91743, -0.32529 42...  \n",
       "23     8773.0  POLYGON ((1.83966 44.47586, 1.83969 44.47613, ...  \n",
       "24     9355.0  POLYGON ((-1.53338 43.53150, -1.53332 43.53158...  \n",
       "25     7683.0  MULTIPOLYGON (((-1.79102 43.37292, -1.79048 43...  \n",
       "26     4137.0  POLYGON ((1.72253 42.51769, 1.72332 42.51818, ...  \n",
       "27     5557.0  POLYGON ((0.62934 45.71480, 0.62991 45.71511, ...  \n",
       "28    10086.0  MULTIPOLYGON (((-1.26138 44.64239, -1.26122 44...  \n",
       "29     6898.0  POLYGON ((0.86711 46.74873, 0.87618 46.75100, ...  \n",
       "..        ...                                                ...  \n",
       "72     6040.0  MULTIPOLYGON (((-1.94877 49.71649, -1.94836 49...  \n",
       "73     2306.0  POLYGON ((1.44624 49.04639, 1.44945 49.04765, ...  \n",
       "74     6031.0  POLYGON ((0.29616 49.42987, 0.30281 49.43038, ...  \n",
       "75     5931.0  POLYGON ((0.75565 48.29990, 0.75585 48.30036, ...  \n",
       "76     6796.0  MULTIPOLYGON (((-4.79551 48.41438, -4.79551 48...  \n",
       "77     5390.0  POLYGON ((5.36695 47.46497, 5.36695 47.46510, ...  \n",
       "78     8802.0  MULTIPOLYGON (((4.06540 47.40725, 4.06759 47.4...  \n",
       "79    83543.0  MULTIPOLYGON (((-54.60278 2.33370, -54.60268 2...  \n",
       "80     5213.0  POLYGON ((-1.23885 47.80950, -1.23877 47.80962...  \n",
       "81     7172.0  MULTIPOLYGON (((-1.35422 47.30435, -1.35382 47...  \n",
       "82     6422.0  POLYGON ((0.58055 47.71290, 0.58239 47.71464, ...  \n",
       "83     5973.0  POLYGON ((-0.46314 45.75191, -0.46299 45.75206...  \n",
       "84     6157.0  POLYGON ((0.05272 47.19656, 0.05321 47.19721, ...  \n",
       "85     6906.0  MULTIPOLYGON (((-1.24366 45.77490, -1.24349 45...  \n",
       "86      611.0  POLYGON ((6.75646 47.72497, 6.75659 47.72507, ...  \n",
       "87     6558.0  POLYGON ((4.64691 44.35062, 4.64693 44.35128, ...  \n",
       "88     5697.0  POLYGON ((5.41839 44.42476, 5.41852 44.42493, ...  \n",
       "89     6235.0  POLYGON ((4.88846 48.80060, 4.88854 48.80062, ...  \n",
       "90     6027.0  POLYGON ((3.38364 48.47958, 3.38370 48.47963, ...  \n",
       "91     6256.0  POLYGON ((4.62751 48.46717, 4.62755 48.46725, ...  \n",
       "92     5897.0  POLYGON ((5.39361 48.39177, 5.39373 48.39181, ...  \n",
       "93      366.0  MULTIPOLYGON (((45.03981 -12.72228, 45.03981 -...  \n",
       "94     3577.0  MULTIPOLYGON (((4.64857 44.26372, 4.64867 44.2...  \n",
       "95     5175.0  POLYGON ((2.98226 44.64515, 2.98304 44.64546, ...  \n",
       "96     6993.0  POLYGON ((5.49642 44.10309, 5.49726 44.10367, ...  \n",
       "97     6870.0  MULTIPOLYGON (((-3.73508 48.11140, -3.73507 48...  \n",
       "98     5256.0  POLYGON ((5.69876 47.26464, 5.69877 47.26481, ...  \n",
       "99     5049.0  MULTIPOLYGON (((5.25202 46.94451, 5.25208 46.9...  \n",
       "100    5566.0  POLYGON ((3.86110 44.71118, 3.86110 44.71151, ...  \n",
       "101    5875.0  POLYGON ((3.26190 44.09335, 3.26221 44.09389, ...  \n",
       "\n",
       "[102 rows x 6 columns]"
      ]
     },
     "execution_count": 37,
     "metadata": {},
     "output_type": "execute_result"
    }
   ],
   "source": [
    "shapefile = gpd.read_file(\"./departements-20180101-shp/departements-20180101.shp\")\n",
    "shapefile"
   ]
  },
  {
   "cell_type": "markdown",
   "metadata": {},
   "source": [
    "I change some departments with non-numeric codes, such as Corse-du-Sud\twith code_insee 2A."
   ]
  },
  {
   "cell_type": "code",
   "execution_count": 38,
   "metadata": {
    "scrolled": false
   },
   "outputs": [
    {
     "name": "stderr",
     "output_type": "stream",
     "text": [
      "/home/hugoboum/anaconda3/lib/python3.7/site-packages/pandas/core/indexing.py:190: SettingWithCopyWarning: \n",
      "A value is trying to be set on a copy of a slice from a DataFrame\n",
      "\n",
      "See the caveats in the documentation: http://pandas.pydata.org/pandas-docs/stable/indexing.html#indexing-view-versus-copy\n",
      "  self._setitem_with_indexer(indexer, value)\n"
     ]
    }
   ],
   "source": [
    "codes = shapefile.code_insee\n",
    "codes.loc[11,2] = 2.1\n",
    "codes.loc[12,2] = 2.2\n",
    "codes.loc[63,2] = 69.1\n",
    "codes.loc[64,2] = 69.2\n",
    "shapefile.code_insee = codes"
   ]
  },
  {
   "cell_type": "markdown",
   "metadata": {},
   "source": [
    "Then I filter metropolitan departments only to have a respectable scale"
   ]
  },
  {
   "cell_type": "code",
   "execution_count": 39,
   "metadata": {},
   "outputs": [],
   "source": [
    "shapefile = shapefile[shapefile.code_insee.astype(int) < 100]"
   ]
  },
  {
   "cell_type": "code",
   "execution_count": 40,
   "metadata": {
    "scrolled": true
   },
   "outputs": [
    {
     "data": {
      "text/plain": [
       "<matplotlib.axes._subplots.AxesSubplot at 0x7fe614597160>"
      ]
     },
     "execution_count": 40,
     "metadata": {},
     "output_type": "execute_result"
    },
    {
     "data": {
      "image/png": "[encoded data removed]",
      "text/plain": [
       "<Figure size 432x288 with 1 Axes>"
      ]
     },
     "metadata": {
      "needs_background": "light"
     },
     "output_type": "display_data"
    }
   ],
   "source": [
    "shapefile.plot()"
   ]
  },
  {
   "cell_type": "markdown",
   "metadata": {},
   "source": [
    "Now, I will try to get a feature in the gas price dataframe describing the department of the stations.\n",
    "I will then groupby this feature and compute the department average price which I will then plot on the above graph.\n"
   ]
  },
  {
   "cell_type": "code",
   "execution_count": 41,
   "metadata": {},
   "outputs": [],
   "source": [
    "from shapely.geometry import shape,mapping, Point, Polygon, MultiPolygon"
   ]
  },
  {
   "cell_type": "code",
   "execution_count": 42,
   "metadata": {},
   "outputs": [],
   "source": [
    "prixall_pd['coordinates'] = prixall_pd[['longitude', 'latitude']].values.tolist()"
   ]
  },
  {
   "cell_type": "code",
   "execution_count": 43,
   "metadata": {},
   "outputs": [],
   "source": [
    "prixall_pd['coordinates'] = prixall_pd['coordinates'].apply(Point)"
   ]
  },
  {
   "cell_type": "code",
   "execution_count": 44,
   "metadata": {},
   "outputs": [],
   "source": [
    "prixall_pd = gpd.GeoDataFrame(prixall_pd, geometry='coordinates')"
   ]
  },
  {
   "cell_type": "code",
   "execution_count": 45,
   "metadata": {
    "scrolled": false
   },
   "outputs": [
    {
     "data": {
      "text/html": [
       "<div>\n",
       "<style scoped>\n",
       "    .dataframe tbody tr th:only-of-type {\n",
       "        vertical-align: middle;\n",
       "    }\n",
       "\n",
       "    .dataframe tbody tr th {\n",
       "        vertical-align: top;\n",
       "    }\n",
       "\n",
       "    .dataframe thead th {\n",
       "        text-align: right;\n",
       "    }\n",
       "</style>\n",
       "<table border=\"1\" class=\"dataframe\">\n",
       "  <thead>\n",
       "    <tr style=\"text-align: right;\">\n",
       "      <th></th>\n",
       "      <th>id_pdv</th>\n",
       "      <th>cp</th>\n",
       "      <th>pop</th>\n",
       "      <th>latitude</th>\n",
       "      <th>longitude</th>\n",
       "      <th>id_carburant</th>\n",
       "      <th>nom_carburant</th>\n",
       "      <th>prix(millieuros)</th>\n",
       "      <th>year</th>\n",
       "      <th>month</th>\n",
       "      <th>week</th>\n",
       "      <th>week_index</th>\n",
       "      <th>day</th>\n",
       "      <th>prix_moyen_fr</th>\n",
       "      <th>prix_moyen_station</th>\n",
       "      <th>price_index</th>\n",
       "      <th>prix_moyen_fr_weekindex</th>\n",
       "      <th>coordinates</th>\n",
       "    </tr>\n",
       "  </thead>\n",
       "  <tbody>\n",
       "    <tr>\n",
       "      <th>0</th>\n",
       "      <td>1000001</td>\n",
       "      <td>1000</td>\n",
       "      <td>R</td>\n",
       "      <td>46.20114</td>\n",
       "      <td>5.19791</td>\n",
       "      <td>1</td>\n",
       "      <td>Gazole</td>\n",
       "      <td>1304</td>\n",
       "      <td>2014</td>\n",
       "      <td>1</td>\n",
       "      <td>1</td>\n",
       "      <td>1</td>\n",
       "      <td>2</td>\n",
       "      <td>1181.091131</td>\n",
       "      <td>1129.333333</td>\n",
       "      <td>95.617798</td>\n",
       "      <td>1221.795512</td>\n",
       "      <td>POINT (5.19791 46.20114)</td>\n",
       "    </tr>\n",
       "    <tr>\n",
       "      <th>1</th>\n",
       "      <td>1000001</td>\n",
       "      <td>1000</td>\n",
       "      <td>R</td>\n",
       "      <td>46.20114</td>\n",
       "      <td>5.19791</td>\n",
       "      <td>1</td>\n",
       "      <td>Gazole</td>\n",
       "      <td>1304</td>\n",
       "      <td>2014</td>\n",
       "      <td>1</td>\n",
       "      <td>1</td>\n",
       "      <td>1</td>\n",
       "      <td>4</td>\n",
       "      <td>1181.091131</td>\n",
       "      <td>1129.333333</td>\n",
       "      <td>95.617798</td>\n",
       "      <td>1221.795512</td>\n",
       "      <td>POINT (5.19791 46.20114)</td>\n",
       "    </tr>\n",
       "    <tr>\n",
       "      <th>2</th>\n",
       "      <td>1000001</td>\n",
       "      <td>1000</td>\n",
       "      <td>R</td>\n",
       "      <td>46.20114</td>\n",
       "      <td>5.19791</td>\n",
       "      <td>1</td>\n",
       "      <td>Gazole</td>\n",
       "      <td>1304</td>\n",
       "      <td>2014</td>\n",
       "      <td>1</td>\n",
       "      <td>1</td>\n",
       "      <td>1</td>\n",
       "      <td>5</td>\n",
       "      <td>1181.091131</td>\n",
       "      <td>1129.333333</td>\n",
       "      <td>95.617798</td>\n",
       "      <td>1221.795512</td>\n",
       "      <td>POINT (5.19791 46.20114)</td>\n",
       "    </tr>\n",
       "    <tr>\n",
       "      <th>3</th>\n",
       "      <td>1000001</td>\n",
       "      <td>1000</td>\n",
       "      <td>R</td>\n",
       "      <td>46.20114</td>\n",
       "      <td>5.19791</td>\n",
       "      <td>1</td>\n",
       "      <td>Gazole</td>\n",
       "      <td>1075</td>\n",
       "      <td>2014</td>\n",
       "      <td>12</td>\n",
       "      <td>1</td>\n",
       "      <td>1</td>\n",
       "      <td>364</td>\n",
       "      <td>1181.091131</td>\n",
       "      <td>1129.333333</td>\n",
       "      <td>95.617798</td>\n",
       "      <td>1221.795512</td>\n",
       "      <td>POINT (5.19791 46.20114)</td>\n",
       "    </tr>\n",
       "    <tr>\n",
       "      <th>4</th>\n",
       "      <td>1000001</td>\n",
       "      <td>1000</td>\n",
       "      <td>R</td>\n",
       "      <td>46.20114</td>\n",
       "      <td>5.19791</td>\n",
       "      <td>1</td>\n",
       "      <td>Gazole</td>\n",
       "      <td>1075</td>\n",
       "      <td>2014</td>\n",
       "      <td>12</td>\n",
       "      <td>1</td>\n",
       "      <td>1</td>\n",
       "      <td>365</td>\n",
       "      <td>1181.091131</td>\n",
       "      <td>1129.333333</td>\n",
       "      <td>95.617798</td>\n",
       "      <td>1221.795512</td>\n",
       "      <td>POINT (5.19791 46.20114)</td>\n",
       "    </tr>\n",
       "  </tbody>\n",
       "</table>\n",
       "</div>"
      ],
      "text/plain": [
       "    id_pdv    cp pop  latitude  longitude  id_carburant nom_carburant  \\\n",
       "0  1000001  1000   R  46.20114    5.19791             1        Gazole   \n",
       "1  1000001  1000   R  46.20114    5.19791             1        Gazole   \n",
       "2  1000001  1000   R  46.20114    5.19791             1        Gazole   \n",
       "3  1000001  1000   R  46.20114    5.19791             1        Gazole   \n",
       "4  1000001  1000   R  46.20114    5.19791             1        Gazole   \n",
       "\n",
       "   prix(millieuros)  year  month  week  week_index  day  prix_moyen_fr  \\\n",
       "0              1304  2014      1     1           1    2    1181.091131   \n",
       "1              1304  2014      1     1           1    4    1181.091131   \n",
       "2              1304  2014      1     1           1    5    1181.091131   \n",
       "3              1075  2014     12     1           1  364    1181.091131   \n",
       "4              1075  2014     12     1           1  365    1181.091131   \n",
       "\n",
       "   prix_moyen_station  price_index  prix_moyen_fr_weekindex  \\\n",
       "0         1129.333333    95.617798              1221.795512   \n",
       "1         1129.333333    95.617798              1221.795512   \n",
       "2         1129.333333    95.617798              1221.795512   \n",
       "3         1129.333333    95.617798              1221.795512   \n",
       "4         1129.333333    95.617798              1221.795512   \n",
       "\n",
       "                coordinates  \n",
       "0  POINT (5.19791 46.20114)  \n",
       "1  POINT (5.19791 46.20114)  \n",
       "2  POINT (5.19791 46.20114)  \n",
       "3  POINT (5.19791 46.20114)  \n",
       "4  POINT (5.19791 46.20114)  "
      ]
     },
     "execution_count": 45,
     "metadata": {},
     "output_type": "execute_result"
    }
   ],
   "source": [
    "prixall_pd.head()"
   ]
  },
  {
   "cell_type": "markdown",
   "metadata": {},
   "source": [
    "I have prepared the coordinates of the gas stations in order to search for the department to which it belongs.\n",
    "\n",
    "Unfortunately, the following code, which should compute it,takes too long to finish...\n",
    "\n",
    "dep_nom = []\n",
    "\n",
    "dep_shape = []\n",
    "\n",
    "for pt in prixall_pd['coordinates']:\n",
    "\n",
    "    for poly,dpt in zip(shapefile['geometry'],shapefile['nom']):\n",
    "    \n",
    "        if(pt.within(poly)):\n",
    "        \n",
    "            dep_nom.append(dpt)\n",
    "            \n",
    "            dep_shape.append(poly)\n",
    "            \n",
    "prixall_pd['dep_nom'] = dep_nom\n",
    "\n",
    "prixall_pd['dep_shape'] = dep_shape\n",
    "\n",
    "prixall_pd.head()"
   ]
  },
  {
   "cell_type": "markdown",
   "metadata": {},
   "source": [
    "We will have to move on to modelisation..."
   ]
  },
  {
   "cell_type": "markdown",
   "metadata": {},
   "source": [
    "# Modeling and forecating using SparkML"
   ]
  },
  {
   "cell_type": "markdown",
   "metadata": {},
   "source": [
    "First, I will try to free some memory"
   ]
  },
  {
   "cell_type": "code",
   "execution_count": 46,
   "metadata": {},
   "outputs": [],
   "source": [
    "import gc"
   ]
  },
  {
   "cell_type": "code",
   "execution_count": 47,
   "metadata": {},
   "outputs": [
    {
     "data": {
      "text/plain": [
       "87"
      ]
     },
     "execution_count": 47,
     "metadata": {},
     "output_type": "execute_result"
    }
   ],
   "source": [
    "del [[prixall_pd,shapefile,codes]]\n",
    "gc.collect()"
   ]
  },
  {
   "cell_type": "markdown",
   "metadata": {},
   "source": [
    "Next, I created the features to be used."
   ]
  },
  {
   "cell_type": "code",
   "execution_count": 48,
   "metadata": {
    "scrolled": false
   },
   "outputs": [
    {
     "data": {
      "text/plain": [
       "['id_pdv',\n",
       " 'cp',\n",
       " 'latitude',\n",
       " 'longitude',\n",
       " 'id_carburant',\n",
       " 'year',\n",
       " 'month',\n",
       " 'week',\n",
       " 'week_index',\n",
       " 'day',\n",
       " 'prix_moyen_fr',\n",
       " 'prix_moyen_station',\n",
       " 'price_index',\n",
       " 'prix_moyen_fr_weekindex']"
      ]
     },
     "execution_count": 48,
     "metadata": {},
     "output_type": "execute_result"
    }
   ],
   "source": [
    "feature_columns = prixall_ddf.columns\n",
    "feature_columns.remove('prix(millieuros)')\n",
    "feature_columns.remove('nom_carburant')\n",
    "feature_columns.remove('pop')\n",
    "feature_columns"
   ]
  },
  {
   "cell_type": "markdown",
   "metadata": {},
   "source": [
    "I will focus on one station and one gas type"
   ]
  },
  {
   "cell_type": "code",
   "execution_count": 49,
   "metadata": {},
   "outputs": [],
   "source": [
    "mdl_ddf = prixall_ddf.filter((F.col('id_pdv') == 1000001) & (F.col('id_carburant') == 1))"
   ]
  },
  {
   "cell_type": "code",
   "execution_count": 50,
   "metadata": {},
   "outputs": [],
   "source": [
    "from pyspark.ml.feature import VectorAssembler\n",
    "assembler = VectorAssembler(inputCols=feature_columns,outputCol=\"features\")"
   ]
  },
  {
   "cell_type": "code",
   "execution_count": 51,
   "metadata": {},
   "outputs": [],
   "source": [
    "mdl_ddf = assembler.transform(mdl_ddf)"
   ]
  },
  {
   "cell_type": "code",
   "execution_count": 52,
   "metadata": {
    "scrolled": false
   },
   "outputs": [
    {
     "name": "stdout",
     "output_type": "stream",
     "text": [
      "+-------+----+---+--------+---------+------------+-------------+----------------+----+-----+----+----------+---+------------------+------------------+------------------+-----------------------+--------------------+\n",
      "| id_pdv|  cp|pop|latitude|longitude|id_carburant|nom_carburant|prix(millieuros)|year|month|week|week_index|day|     prix_moyen_fr|prix_moyen_station|       price_index|prix_moyen_fr_weekindex|            features|\n",
      "+-------+----+---+--------+---------+------------+-------------+----------------+----+-----+----+----------+---+------------------+------------------+------------------+-----------------------+--------------------+\n",
      "|1000001|1000|  R|46.20114|  5.19791|           1|       Gazole|            1304|2014|    1|   1|         1|  2|1181.0911314644688|1129.3333333333333| 95.61779808921607|     1221.7955122777307|[1000001.0,1000.0...|\n",
      "|1000001|1000|  R|46.20114|  5.19791|           1|       Gazole|            1304|2014|    1|   1|         1|  4|1181.0911314644688|1129.3333333333333| 95.61779808921607|     1221.7955122777307|[1000001.0,1000.0...|\n",
      "|1000001|1000|  R|46.20114|  5.19791|           1|       Gazole|            1304|2014|    1|   1|         1|  5|1181.0911314644688|1129.3333333333333| 95.61779808921607|     1221.7955122777307|[1000001.0,1000.0...|\n",
      "|1000001|1000|  R|46.20114|  5.19791|           1|       Gazole|            1075|2014|   12|   1|         1|364|1181.0911314644688|1129.3333333333333| 95.61779808921607|     1221.7955122777307|[1000001.0,1000.0...|\n",
      "|1000001|1000|  R|46.20114|  5.19791|           1|       Gazole|            1075|2014|   12|   1|         1|365|1181.0911314644688|1129.3333333333333| 95.61779808921607|     1221.7955122777307|[1000001.0,1000.0...|\n",
      "|1000001|1000|  R|46.20114|  5.19791|           1|       Gazole|            1304|2014|    1|   2|         2|  6|  1176.55605922038|1160.3684210526317|  98.6241507116563|      1333.624184460261|[1000001.0,1000.0...|\n",
      "|1000001|1000|  R|46.20114|  5.19791|           1|       Gazole|            1304|2014|    1|   2|         2|  7|  1176.55605922038|1160.3684210526317|  98.6241507116563|      1333.624184460261|[1000001.0,1000.0...|\n",
      "|1000001|1000|  R|46.20114|  5.19791|           1|       Gazole|            1304|2014|    1|   2|         2| 10|  1176.55605922038|1160.3684210526317|  98.6241507116563|      1333.624184460261|[1000001.0,1000.0...|\n",
      "|1000001|1000|  R|46.20114|  5.19791|           1|       Gazole|            1304|2014|    1|   2|         2| 11|  1176.55605922038|1160.3684210526317|  98.6241507116563|      1333.624184460261|[1000001.0,1000.0...|\n",
      "|1000001|1000|  R|46.20114|  5.19791|           1|       Gazole|            1304|2014|    1|   3|         3| 13|1152.7277113373882|1156.0666666666666|100.28965689784664|     1323.5956594071386|[1000001.0,1000.0...|\n",
      "|1000001|1000|  R|46.20114|  5.19791|           1|       Gazole|            1304|2014|    1|   3|         3| 15|1152.7277113373882|1156.0666666666666|100.28965689784664|     1323.5956594071386|[1000001.0,1000.0...|\n",
      "|1000001|1000|  R|46.20114|  5.19791|           1|       Gazole|            1304|2014|    1|   3|         3| 16|1152.7277113373882|1156.0666666666666|100.28965689784664|     1323.5956594071386|[1000001.0,1000.0...|\n",
      "|1000001|1000|  R|46.20114|  5.19791|           1|       Gazole|            1304|2014|    1|   3|         3| 18|1152.7277113373882|1156.0666666666666|100.28965689784664|     1323.5956594071386|[1000001.0,1000.0...|\n",
      "|1000001|1000|  R|46.20114|  5.19791|           1|       Gazole|            1304|2014|    1|   4|         4| 20|  1154.81429475211|            1168.5|101.18510009012553|     1323.0351362683439|[1000001.0,1000.0...|\n",
      "|1000001|1000|  R|46.20114|  5.19791|           1|       Gazole|            1304|2014|    1|   4|         4| 22|  1154.81429475211|            1168.5|101.18510009012553|     1323.0351362683439|[1000001.0,1000.0...|\n",
      "|1000001|1000|  R|46.20114|  5.19791|           1|       Gazole|            1304|2014|    1|   4|         4| 23|  1154.81429475211|            1168.5|101.18510009012553|     1323.0351362683439|[1000001.0,1000.0...|\n",
      "|1000001|1000|  R|46.20114|  5.19791|           1|       Gazole|            1304|2014|    1|   4|         4| 25|  1154.81429475211|            1168.5|101.18510009012553|     1323.0351362683439|[1000001.0,1000.0...|\n",
      "|1000001|1000|  R|46.20114|  5.19791|           1|       Gazole|            1304|2014|    1|   4|         4| 26|  1154.81429475211|            1168.5|101.18510009012553|     1323.0351362683439|[1000001.0,1000.0...|\n",
      "|1000001|1000|  R|46.20114|  5.19791|           1|       Gazole|            1304|2014|    1|   5|         5| 27|1160.9916199016054|            1157.0| 99.65618874131549|     1324.1694572217111|[1000001.0,1000.0...|\n",
      "|1000001|1000|  R|46.20114|  5.19791|           1|       Gazole|            1304|2014|    1|   5|         5| 28|1160.9916199016054|            1157.0| 99.65618874131549|     1324.1694572217111|[1000001.0,1000.0...|\n",
      "+-------+----+---+--------+---------+------------+-------------+----------------+----+-----+----+----------+---+------------------+------------------+------------------+-----------------------+--------------------+\n",
      "only showing top 20 rows\n",
      "\n"
     ]
    }
   ],
   "source": [
    "mdl_ddf.show()"
   ]
  },
  {
   "cell_type": "markdown",
   "metadata": {},
   "source": [
    "We can notice the last column features containing every feature to be used.\n",
    "Next, we split train and test sets."
   ]
  },
  {
   "cell_type": "code",
   "execution_count": 53,
   "metadata": {},
   "outputs": [],
   "source": [
    "mdl_train, mdl_test = mdl_ddf.randomSplit([0.7, 0.3])"
   ]
  },
  {
   "cell_type": "markdown",
   "metadata": {},
   "source": [
    "I will use a linear regression to forecast gas prices with a L1 regularization\n",
    "\n",
    "https://spark.apache.org/docs/1.5.2/ml-linear-methods.html"
   ]
  },
  {
   "cell_type": "code",
   "execution_count": 80,
   "metadata": {},
   "outputs": [],
   "source": [
    "from pyspark.ml.regression import LinearRegression"
   ]
  },
  {
   "cell_type": "code",
   "execution_count": 81,
   "metadata": {},
   "outputs": [],
   "source": [
    "algo = LinearRegression(featuresCol=\"features\",regParam=0.3, elasticNetParam=1, labelCol=\"prix(millieuros)\")"
   ]
  },
  {
   "cell_type": "code",
   "execution_count": 82,
   "metadata": {},
   "outputs": [],
   "source": [
    "model = algo.fit(mdl_train)"
   ]
  },
  {
   "cell_type": "markdown",
   "metadata": {},
   "source": [
    "Here are the fitted coefficients"
   ]
  },
  {
   "cell_type": "code",
   "execution_count": 83,
   "metadata": {},
   "outputs": [
    {
     "name": "stdout",
     "output_type": "stream",
     "text": [
      "Intercept: -88.08199267847569\n",
      "id_pdv: 0.0\n",
      "cp: 0.0\n",
      "latitude: 0.0\n",
      "longitude: 0.0\n",
      "id_carburant: 0.0\n",
      "year: 0.0\n",
      "month: 0.0\n",
      "week: -0.06207364307391711\n",
      "week_index: -0.022411729779243057\n",
      "day: 0.0\n",
      "prix_moyen_fr: 0.0\n",
      "prix_moyen_station: 0.06599688931921874\n",
      "price_index: 0.0\n",
      "prix_moyen_fr_weekindex: 0.9856618433687934\n"
     ]
    }
   ],
   "source": [
    "print(\"Intercept: \" + str(model.intercept))\n",
    "for col,par in zip(feature_columns,model.coefficients):\n",
    "    print(col + \": \" + str(par))\n"
   ]
  },
  {
   "cell_type": "markdown",
   "metadata": {},
   "source": [
    "After fitting, some evaluations are possible using the test data"
   ]
  },
  {
   "cell_type": "code",
   "execution_count": 84,
   "metadata": {},
   "outputs": [],
   "source": [
    "evaluation_summary = model.evaluate(mdl_test)"
   ]
  },
  {
   "cell_type": "code",
   "execution_count": 85,
   "metadata": {},
   "outputs": [
    {
     "data": {
      "text/plain": [
       "27.975697901598092"
      ]
     },
     "execution_count": 85,
     "metadata": {},
     "output_type": "execute_result"
    }
   ],
   "source": [
    "evaluation_summary.rootMeanSquaredError"
   ]
  },
  {
   "cell_type": "code",
   "execution_count": 86,
   "metadata": {
    "scrolled": true
   },
   "outputs": [
    {
     "data": {
      "text/plain": [
       "0.8992647524490768"
      ]
     },
     "execution_count": 86,
     "metadata": {},
     "output_type": "execute_result"
    }
   ],
   "source": [
    "evaluation_summary.r2"
   ]
  },
  {
   "cell_type": "markdown",
   "metadata": {},
   "source": [
    "And now, we can predict on the test data"
   ]
  },
  {
   "cell_type": "code",
   "execution_count": 87,
   "metadata": {},
   "outputs": [],
   "source": [
    "predictions = model.transform(mdl_test)"
   ]
  },
  {
   "cell_type": "code",
   "execution_count": 88,
   "metadata": {
    "scrolled": false
   },
   "outputs": [
    {
     "name": "stdout",
     "output_type": "stream",
     "text": [
      "+----------------+------------------+\n",
      "|prix(millieuros)|        prediction|\n",
      "+----------------+------------------+\n",
      "|            1075|1190.6432258045627|\n",
      "|            1304|1190.6432258045627|\n",
      "|            1304| 1292.579092574777|\n",
      "|            1304|1292.7626822555574|\n",
      "|            1304|1292.7626822555574|\n",
      "|            1299| 1293.037289537401|\n",
      "|            1285|1288.8026906493064|\n",
      "|            1285| 1296.176809313951|\n",
      "|            1285| 1300.552758383151|\n",
      "|            1285|1300.7639589474547|\n",
      "|            1535|1300.7639589474547|\n",
      "|            1285| 1295.863434055244|\n",
      "|            1285|1285.8429585249012|\n",
      "|            1285|1285.8429585249012|\n",
      "|            1285|1285.8429585249012|\n",
      "|            1275| 1273.137009322462|\n",
      "|            1529| 1273.137009322462|\n",
      "|            1269|1274.3592363658324|\n",
      "|            1265|1271.5871499714817|\n",
      "|            1265|1271.5871499714817|\n",
      "+----------------+------------------+\n",
      "only showing top 20 rows\n",
      "\n"
     ]
    }
   ],
   "source": [
    "predictions.select('prix(millieuros)','prediction').show()"
   ]
  },
  {
   "cell_type": "markdown",
   "metadata": {},
   "source": [
    "# Conclusion"
   ]
  },
  {
   "cell_type": "markdown",
   "metadata": {},
   "source": [
    "It would take a bit too long to grid-search a perfect L1 penalization parameter, so we'll stop at that.\n",
    "\n",
    "Thank you for you attention and Happy new year !"
   ]
  }
 ],
 "metadata": {
  "kernelspec": {
   "display_name": "Python 3",
   "language": "python",
   "name": "python3"
  },
  "language_info": {
   "codemirror_mode": {
    "name": "ipython",
    "version": 3
   },
   "file_extension": ".py",
   "mimetype": "text/x-python",
   "name": "python",
   "nbconvert_exporter": "python",
   "pygments_lexer": "ipython3",
   "version": "3.7.3"
  }
 },
 "nbformat": 4,
 "nbformat_minor": 2
}
